{
  "nbformat": 4,
  "nbformat_minor": 0,
  "metadata": {
    "colab": {
      "provenance": []
    },
    "kernelspec": {
      "name": "python3",
      "display_name": "Python 3"
    },
    "language_info": {
      "name": "python"
    }
  },
  "cells": [
    {
      "cell_type": "markdown",
      "source": [
        "# Pyspark Tutorial in Colab"
      ],
      "metadata": {
        "id": "q41k5EGPoLCG"
      }
    },
    {
      "cell_type": "code",
      "execution_count": null,
      "metadata": {
        "id": "ZrljtDerKDKS"
      },
      "outputs": [],
      "source": [
        "# Install Java\n",
        "!apt-get install openjdk-11-jdk-headless -qq > /dev/null\n",
        "\n",
        "# Download Spark 3.5.0 with Hadoop 3\n",
        "!wget -q https://archive.apache.org/dist/spark/spark-3.5.0/spark-3.5.0-bin-hadoop3.tgz\n",
        "\n",
        "# Extract the Spark tar file\n",
        "!tar -xzf spark-3.5.0-bin-hadoop3.tgz\n",
        "\n",
        "# Move to /opt for standard setup\n",
        "!mv spark-3.5.0-bin-hadoop3 /opt/spark\n",
        "\n",
        "# Set environment variables\n",
        "import os\n",
        "os.environ[\"JAVA_HOME\"] = \"/usr/lib/jvm/java-11-openjdk-amd64\"\n",
        "os.environ[\"SPARK_HOME\"] = \"/opt/spark\"\n",
        "\n",
        "# Install findspark\n",
        "!pip install -q findspark"
      ]
    },
    {
      "cell_type": "code",
      "source": [
        "import findspark\n",
        "findspark.init()\n",
        "\n",
        "from pyspark.sql import SparkSession\n",
        "\n",
        "spark = SparkSession.builder \\\n",
        "    .appName(\"Test Spark Session\") \\\n",
        "    .getOrCreate()\n",
        "\n",
        "spark.range(5).show()"
      ],
      "metadata": {
        "colab": {
          "base_uri": "https://localhost:8080/"
        },
        "id": "ckoWyWE5KO71",
        "outputId": "3fe535d9-fdc7-46c7-a6f7-bb3082f38107"
      },
      "execution_count": null,
      "outputs": [
        {
          "output_type": "stream",
          "name": "stdout",
          "text": [
            "+---+\n",
            "| id|\n",
            "+---+\n",
            "|  0|\n",
            "|  1|\n",
            "|  2|\n",
            "|  3|\n",
            "|  4|\n",
            "+---+\n",
            "\n"
          ]
        }
      ]
    },
    {
      "cell_type": "code",
      "source": [
        "import pyspark\n",
        "import pandas as pd\n",
        "\n",
        "df=pd.read_csv(\"/content/gas_prices.csv\")\n",
        "df"
      ],
      "metadata": {
        "id": "ztaTdebyLLqr",
        "colab": {
          "base_uri": "https://localhost:8080/",
          "height": 683
        },
        "outputId": "d50dfb31-1245-491f-b587-dcfde69fc992"
      },
      "execution_count": null,
      "outputs": [
        {
          "output_type": "execute_result",
          "data": {
            "text/plain": [
              "    Year  Australia  Canada  France  Germany  Italy  Japan  Mexico  \\\n",
              "0   1990        NaN    1.87    3.63     2.65   4.59   3.16    1.00   \n",
              "1   1991       1.96    1.92    3.45     2.90   4.50   3.46    1.30   \n",
              "2   1992       1.89    1.73    3.56     3.27   4.53   3.58    1.50   \n",
              "3   1993       1.73    1.57    3.41     3.07   3.68   4.16    1.56   \n",
              "4   1994       1.84    1.45    3.59     3.52   3.70   4.36    1.48   \n",
              "5   1995       1.95    1.53    4.26     3.96   4.00   4.43    1.11   \n",
              "6   1996       2.12    1.61    4.41     3.94   4.39   3.64    1.25   \n",
              "7   1997       2.05    1.62    4.00     3.53   4.07   3.26    1.47   \n",
              "8   1998       1.63    1.38    3.87     3.34   3.84   2.82    1.49   \n",
              "9   1999       1.72    1.52    3.85     3.42   3.87   3.27    1.79   \n",
              "10  2000       1.94    1.86    3.80     3.45   3.77   3.65    2.01   \n",
              "11  2001       1.71    1.72    3.51     3.40   3.57   3.27    2.20   \n",
              "12  2002       1.76    1.69    3.62     3.67   3.74   3.15    2.24   \n",
              "13  2003       2.19    1.99    4.35     4.59   4.53   3.47    2.04   \n",
              "14  2004       2.72    2.37    4.99     5.24   5.29   3.93    2.03   \n",
              "15  2005       3.23    2.89    5.46     5.66   5.74   4.28    2.22   \n",
              "16  2006       3.54    3.26    5.88     6.03   6.10   4.47    2.31   \n",
              "17  2007       3.85    3.59    6.60     6.88   6.73   4.49    2.40   \n",
              "18  2008       4.45    4.08    7.51     7.75   7.63   5.74    2.45   \n",
              "\n",
              "    South Korea    UK   USA  \n",
              "0          2.05  2.82  1.16  \n",
              "1          2.49  3.01  1.14  \n",
              "2          2.65  3.06  1.13  \n",
              "3          2.88  2.84  1.11  \n",
              "4          2.87  2.99  1.11  \n",
              "5          2.94  3.21  1.15  \n",
              "6          3.18  3.34  1.23  \n",
              "7          3.34  3.83  1.23  \n",
              "8          3.04  4.06  1.06  \n",
              "9          3.80  4.29  1.17  \n",
              "10         4.18  4.58  1.51  \n",
              "11         3.76  4.13  1.46  \n",
              "12         3.84  4.16  1.36  \n",
              "13         4.11  4.70  1.59  \n",
              "14         4.51  5.56  1.88  \n",
              "15         5.28  5.97  2.30  \n",
              "16         5.92  6.36  2.59  \n",
              "17         6.21  7.13  2.80  \n",
              "18         5.83  7.42  3.27  "
            ],
            "text/html": [
              "\n",
              "  <div id=\"df-957fac89-068b-4010-9b1f-cefd8e42b9d9\" class=\"colab-df-container\">\n",
              "    <div>\n",
              "<style scoped>\n",
              "    .dataframe tbody tr th:only-of-type {\n",
              "        vertical-align: middle;\n",
              "    }\n",
              "\n",
              "    .dataframe tbody tr th {\n",
              "        vertical-align: top;\n",
              "    }\n",
              "\n",
              "    .dataframe thead th {\n",
              "        text-align: right;\n",
              "    }\n",
              "</style>\n",
              "<table border=\"1\" class=\"dataframe\">\n",
              "  <thead>\n",
              "    <tr style=\"text-align: right;\">\n",
              "      <th></th>\n",
              "      <th>Year</th>\n",
              "      <th>Australia</th>\n",
              "      <th>Canada</th>\n",
              "      <th>France</th>\n",
              "      <th>Germany</th>\n",
              "      <th>Italy</th>\n",
              "      <th>Japan</th>\n",
              "      <th>Mexico</th>\n",
              "      <th>South Korea</th>\n",
              "      <th>UK</th>\n",
              "      <th>USA</th>\n",
              "    </tr>\n",
              "  </thead>\n",
              "  <tbody>\n",
              "    <tr>\n",
              "      <th>0</th>\n",
              "      <td>1990</td>\n",
              "      <td>NaN</td>\n",
              "      <td>1.87</td>\n",
              "      <td>3.63</td>\n",
              "      <td>2.65</td>\n",
              "      <td>4.59</td>\n",
              "      <td>3.16</td>\n",
              "      <td>1.00</td>\n",
              "      <td>2.05</td>\n",
              "      <td>2.82</td>\n",
              "      <td>1.16</td>\n",
              "    </tr>\n",
              "    <tr>\n",
              "      <th>1</th>\n",
              "      <td>1991</td>\n",
              "      <td>1.96</td>\n",
              "      <td>1.92</td>\n",
              "      <td>3.45</td>\n",
              "      <td>2.90</td>\n",
              "      <td>4.50</td>\n",
              "      <td>3.46</td>\n",
              "      <td>1.30</td>\n",
              "      <td>2.49</td>\n",
              "      <td>3.01</td>\n",
              "      <td>1.14</td>\n",
              "    </tr>\n",
              "    <tr>\n",
              "      <th>2</th>\n",
              "      <td>1992</td>\n",
              "      <td>1.89</td>\n",
              "      <td>1.73</td>\n",
              "      <td>3.56</td>\n",
              "      <td>3.27</td>\n",
              "      <td>4.53</td>\n",
              "      <td>3.58</td>\n",
              "      <td>1.50</td>\n",
              "      <td>2.65</td>\n",
              "      <td>3.06</td>\n",
              "      <td>1.13</td>\n",
              "    </tr>\n",
              "    <tr>\n",
              "      <th>3</th>\n",
              "      <td>1993</td>\n",
              "      <td>1.73</td>\n",
              "      <td>1.57</td>\n",
              "      <td>3.41</td>\n",
              "      <td>3.07</td>\n",
              "      <td>3.68</td>\n",
              "      <td>4.16</td>\n",
              "      <td>1.56</td>\n",
              "      <td>2.88</td>\n",
              "      <td>2.84</td>\n",
              "      <td>1.11</td>\n",
              "    </tr>\n",
              "    <tr>\n",
              "      <th>4</th>\n",
              "      <td>1994</td>\n",
              "      <td>1.84</td>\n",
              "      <td>1.45</td>\n",
              "      <td>3.59</td>\n",
              "      <td>3.52</td>\n",
              "      <td>3.70</td>\n",
              "      <td>4.36</td>\n",
              "      <td>1.48</td>\n",
              "      <td>2.87</td>\n",
              "      <td>2.99</td>\n",
              "      <td>1.11</td>\n",
              "    </tr>\n",
              "    <tr>\n",
              "      <th>5</th>\n",
              "      <td>1995</td>\n",
              "      <td>1.95</td>\n",
              "      <td>1.53</td>\n",
              "      <td>4.26</td>\n",
              "      <td>3.96</td>\n",
              "      <td>4.00</td>\n",
              "      <td>4.43</td>\n",
              "      <td>1.11</td>\n",
              "      <td>2.94</td>\n",
              "      <td>3.21</td>\n",
              "      <td>1.15</td>\n",
              "    </tr>\n",
              "    <tr>\n",
              "      <th>6</th>\n",
              "      <td>1996</td>\n",
              "      <td>2.12</td>\n",
              "      <td>1.61</td>\n",
              "      <td>4.41</td>\n",
              "      <td>3.94</td>\n",
              "      <td>4.39</td>\n",
              "      <td>3.64</td>\n",
              "      <td>1.25</td>\n",
              "      <td>3.18</td>\n",
              "      <td>3.34</td>\n",
              "      <td>1.23</td>\n",
              "    </tr>\n",
              "    <tr>\n",
              "      <th>7</th>\n",
              "      <td>1997</td>\n",
              "      <td>2.05</td>\n",
              "      <td>1.62</td>\n",
              "      <td>4.00</td>\n",
              "      <td>3.53</td>\n",
              "      <td>4.07</td>\n",
              "      <td>3.26</td>\n",
              "      <td>1.47</td>\n",
              "      <td>3.34</td>\n",
              "      <td>3.83</td>\n",
              "      <td>1.23</td>\n",
              "    </tr>\n",
              "    <tr>\n",
              "      <th>8</th>\n",
              "      <td>1998</td>\n",
              "      <td>1.63</td>\n",
              "      <td>1.38</td>\n",
              "      <td>3.87</td>\n",
              "      <td>3.34</td>\n",
              "      <td>3.84</td>\n",
              "      <td>2.82</td>\n",
              "      <td>1.49</td>\n",
              "      <td>3.04</td>\n",
              "      <td>4.06</td>\n",
              "      <td>1.06</td>\n",
              "    </tr>\n",
              "    <tr>\n",
              "      <th>9</th>\n",
              "      <td>1999</td>\n",
              "      <td>1.72</td>\n",
              "      <td>1.52</td>\n",
              "      <td>3.85</td>\n",
              "      <td>3.42</td>\n",
              "      <td>3.87</td>\n",
              "      <td>3.27</td>\n",
              "      <td>1.79</td>\n",
              "      <td>3.80</td>\n",
              "      <td>4.29</td>\n",
              "      <td>1.17</td>\n",
              "    </tr>\n",
              "    <tr>\n",
              "      <th>10</th>\n",
              "      <td>2000</td>\n",
              "      <td>1.94</td>\n",
              "      <td>1.86</td>\n",
              "      <td>3.80</td>\n",
              "      <td>3.45</td>\n",
              "      <td>3.77</td>\n",
              "      <td>3.65</td>\n",
              "      <td>2.01</td>\n",
              "      <td>4.18</td>\n",
              "      <td>4.58</td>\n",
              "      <td>1.51</td>\n",
              "    </tr>\n",
              "    <tr>\n",
              "      <th>11</th>\n",
              "      <td>2001</td>\n",
              "      <td>1.71</td>\n",
              "      <td>1.72</td>\n",
              "      <td>3.51</td>\n",
              "      <td>3.40</td>\n",
              "      <td>3.57</td>\n",
              "      <td>3.27</td>\n",
              "      <td>2.20</td>\n",
              "      <td>3.76</td>\n",
              "      <td>4.13</td>\n",
              "      <td>1.46</td>\n",
              "    </tr>\n",
              "    <tr>\n",
              "      <th>12</th>\n",
              "      <td>2002</td>\n",
              "      <td>1.76</td>\n",
              "      <td>1.69</td>\n",
              "      <td>3.62</td>\n",
              "      <td>3.67</td>\n",
              "      <td>3.74</td>\n",
              "      <td>3.15</td>\n",
              "      <td>2.24</td>\n",
              "      <td>3.84</td>\n",
              "      <td>4.16</td>\n",
              "      <td>1.36</td>\n",
              "    </tr>\n",
              "    <tr>\n",
              "      <th>13</th>\n",
              "      <td>2003</td>\n",
              "      <td>2.19</td>\n",
              "      <td>1.99</td>\n",
              "      <td>4.35</td>\n",
              "      <td>4.59</td>\n",
              "      <td>4.53</td>\n",
              "      <td>3.47</td>\n",
              "      <td>2.04</td>\n",
              "      <td>4.11</td>\n",
              "      <td>4.70</td>\n",
              "      <td>1.59</td>\n",
              "    </tr>\n",
              "    <tr>\n",
              "      <th>14</th>\n",
              "      <td>2004</td>\n",
              "      <td>2.72</td>\n",
              "      <td>2.37</td>\n",
              "      <td>4.99</td>\n",
              "      <td>5.24</td>\n",
              "      <td>5.29</td>\n",
              "      <td>3.93</td>\n",
              "      <td>2.03</td>\n",
              "      <td>4.51</td>\n",
              "      <td>5.56</td>\n",
              "      <td>1.88</td>\n",
              "    </tr>\n",
              "    <tr>\n",
              "      <th>15</th>\n",
              "      <td>2005</td>\n",
              "      <td>3.23</td>\n",
              "      <td>2.89</td>\n",
              "      <td>5.46</td>\n",
              "      <td>5.66</td>\n",
              "      <td>5.74</td>\n",
              "      <td>4.28</td>\n",
              "      <td>2.22</td>\n",
              "      <td>5.28</td>\n",
              "      <td>5.97</td>\n",
              "      <td>2.30</td>\n",
              "    </tr>\n",
              "    <tr>\n",
              "      <th>16</th>\n",
              "      <td>2006</td>\n",
              "      <td>3.54</td>\n",
              "      <td>3.26</td>\n",
              "      <td>5.88</td>\n",
              "      <td>6.03</td>\n",
              "      <td>6.10</td>\n",
              "      <td>4.47</td>\n",
              "      <td>2.31</td>\n",
              "      <td>5.92</td>\n",
              "      <td>6.36</td>\n",
              "      <td>2.59</td>\n",
              "    </tr>\n",
              "    <tr>\n",
              "      <th>17</th>\n",
              "      <td>2007</td>\n",
              "      <td>3.85</td>\n",
              "      <td>3.59</td>\n",
              "      <td>6.60</td>\n",
              "      <td>6.88</td>\n",
              "      <td>6.73</td>\n",
              "      <td>4.49</td>\n",
              "      <td>2.40</td>\n",
              "      <td>6.21</td>\n",
              "      <td>7.13</td>\n",
              "      <td>2.80</td>\n",
              "    </tr>\n",
              "    <tr>\n",
              "      <th>18</th>\n",
              "      <td>2008</td>\n",
              "      <td>4.45</td>\n",
              "      <td>4.08</td>\n",
              "      <td>7.51</td>\n",
              "      <td>7.75</td>\n",
              "      <td>7.63</td>\n",
              "      <td>5.74</td>\n",
              "      <td>2.45</td>\n",
              "      <td>5.83</td>\n",
              "      <td>7.42</td>\n",
              "      <td>3.27</td>\n",
              "    </tr>\n",
              "  </tbody>\n",
              "</table>\n",
              "</div>\n",
              "    <div class=\"colab-df-buttons\">\n",
              "\n",
              "  <div class=\"colab-df-container\">\n",
              "    <button class=\"colab-df-convert\" onclick=\"convertToInteractive('df-957fac89-068b-4010-9b1f-cefd8e42b9d9')\"\n",
              "            title=\"Convert this dataframe to an interactive table.\"\n",
              "            style=\"display:none;\">\n",
              "\n",
              "  <svg xmlns=\"http://www.w3.org/2000/svg\" height=\"24px\" viewBox=\"0 -960 960 960\">\n",
              "    <path d=\"M120-120v-720h720v720H120Zm60-500h600v-160H180v160Zm220 220h160v-160H400v160Zm0 220h160v-160H400v160ZM180-400h160v-160H180v160Zm440 0h160v-160H620v160ZM180-180h160v-160H180v160Zm440 0h160v-160H620v160Z\"/>\n",
              "  </svg>\n",
              "    </button>\n",
              "\n",
              "  <style>\n",
              "    .colab-df-container {\n",
              "      display:flex;\n",
              "      gap: 12px;\n",
              "    }\n",
              "\n",
              "    .colab-df-convert {\n",
              "      background-color: #E8F0FE;\n",
              "      border: none;\n",
              "      border-radius: 50%;\n",
              "      cursor: pointer;\n",
              "      display: none;\n",
              "      fill: #1967D2;\n",
              "      height: 32px;\n",
              "      padding: 0 0 0 0;\n",
              "      width: 32px;\n",
              "    }\n",
              "\n",
              "    .colab-df-convert:hover {\n",
              "      background-color: #E2EBFA;\n",
              "      box-shadow: 0px 1px 2px rgba(60, 64, 67, 0.3), 0px 1px 3px 1px rgba(60, 64, 67, 0.15);\n",
              "      fill: #174EA6;\n",
              "    }\n",
              "\n",
              "    .colab-df-buttons div {\n",
              "      margin-bottom: 4px;\n",
              "    }\n",
              "\n",
              "    [theme=dark] .colab-df-convert {\n",
              "      background-color: #3B4455;\n",
              "      fill: #D2E3FC;\n",
              "    }\n",
              "\n",
              "    [theme=dark] .colab-df-convert:hover {\n",
              "      background-color: #434B5C;\n",
              "      box-shadow: 0px 1px 3px 1px rgba(0, 0, 0, 0.15);\n",
              "      filter: drop-shadow(0px 1px 2px rgba(0, 0, 0, 0.3));\n",
              "      fill: #FFFFFF;\n",
              "    }\n",
              "  </style>\n",
              "\n",
              "    <script>\n",
              "      const buttonEl =\n",
              "        document.querySelector('#df-957fac89-068b-4010-9b1f-cefd8e42b9d9 button.colab-df-convert');\n",
              "      buttonEl.style.display =\n",
              "        google.colab.kernel.accessAllowed ? 'block' : 'none';\n",
              "\n",
              "      async function convertToInteractive(key) {\n",
              "        const element = document.querySelector('#df-957fac89-068b-4010-9b1f-cefd8e42b9d9');\n",
              "        const dataTable =\n",
              "          await google.colab.kernel.invokeFunction('convertToInteractive',\n",
              "                                                    [key], {});\n",
              "        if (!dataTable) return;\n",
              "\n",
              "        const docLinkHtml = 'Like what you see? Visit the ' +\n",
              "          '<a target=\"_blank\" href=https://colab.research.google.com/notebooks/data_table.ipynb>data table notebook</a>'\n",
              "          + ' to learn more about interactive tables.';\n",
              "        element.innerHTML = '';\n",
              "        dataTable['output_type'] = 'display_data';\n",
              "        await google.colab.output.renderOutput(dataTable, element);\n",
              "        const docLink = document.createElement('div');\n",
              "        docLink.innerHTML = docLinkHtml;\n",
              "        element.appendChild(docLink);\n",
              "      }\n",
              "    </script>\n",
              "  </div>\n",
              "\n",
              "\n",
              "<div id=\"df-b690d59b-0caa-491e-8d6b-9356f44eca2d\">\n",
              "  <button class=\"colab-df-quickchart\" onclick=\"quickchart('df-b690d59b-0caa-491e-8d6b-9356f44eca2d')\"\n",
              "            title=\"Suggest charts\"\n",
              "            style=\"display:none;\">\n",
              "\n",
              "<svg xmlns=\"http://www.w3.org/2000/svg\" height=\"24px\"viewBox=\"0 0 24 24\"\n",
              "     width=\"24px\">\n",
              "    <g>\n",
              "        <path d=\"M19 3H5c-1.1 0-2 .9-2 2v14c0 1.1.9 2 2 2h14c1.1 0 2-.9 2-2V5c0-1.1-.9-2-2-2zM9 17H7v-7h2v7zm4 0h-2V7h2v10zm4 0h-2v-4h2v4z\"/>\n",
              "    </g>\n",
              "</svg>\n",
              "  </button>\n",
              "\n",
              "<style>\n",
              "  .colab-df-quickchart {\n",
              "      --bg-color: #E8F0FE;\n",
              "      --fill-color: #1967D2;\n",
              "      --hover-bg-color: #E2EBFA;\n",
              "      --hover-fill-color: #174EA6;\n",
              "      --disabled-fill-color: #AAA;\n",
              "      --disabled-bg-color: #DDD;\n",
              "  }\n",
              "\n",
              "  [theme=dark] .colab-df-quickchart {\n",
              "      --bg-color: #3B4455;\n",
              "      --fill-color: #D2E3FC;\n",
              "      --hover-bg-color: #434B5C;\n",
              "      --hover-fill-color: #FFFFFF;\n",
              "      --disabled-bg-color: #3B4455;\n",
              "      --disabled-fill-color: #666;\n",
              "  }\n",
              "\n",
              "  .colab-df-quickchart {\n",
              "    background-color: var(--bg-color);\n",
              "    border: none;\n",
              "    border-radius: 50%;\n",
              "    cursor: pointer;\n",
              "    display: none;\n",
              "    fill: var(--fill-color);\n",
              "    height: 32px;\n",
              "    padding: 0;\n",
              "    width: 32px;\n",
              "  }\n",
              "\n",
              "  .colab-df-quickchart:hover {\n",
              "    background-color: var(--hover-bg-color);\n",
              "    box-shadow: 0 1px 2px rgba(60, 64, 67, 0.3), 0 1px 3px 1px rgba(60, 64, 67, 0.15);\n",
              "    fill: var(--button-hover-fill-color);\n",
              "  }\n",
              "\n",
              "  .colab-df-quickchart-complete:disabled,\n",
              "  .colab-df-quickchart-complete:disabled:hover {\n",
              "    background-color: var(--disabled-bg-color);\n",
              "    fill: var(--disabled-fill-color);\n",
              "    box-shadow: none;\n",
              "  }\n",
              "\n",
              "  .colab-df-spinner {\n",
              "    border: 2px solid var(--fill-color);\n",
              "    border-color: transparent;\n",
              "    border-bottom-color: var(--fill-color);\n",
              "    animation:\n",
              "      spin 1s steps(1) infinite;\n",
              "  }\n",
              "\n",
              "  @keyframes spin {\n",
              "    0% {\n",
              "      border-color: transparent;\n",
              "      border-bottom-color: var(--fill-color);\n",
              "      border-left-color: var(--fill-color);\n",
              "    }\n",
              "    20% {\n",
              "      border-color: transparent;\n",
              "      border-left-color: var(--fill-color);\n",
              "      border-top-color: var(--fill-color);\n",
              "    }\n",
              "    30% {\n",
              "      border-color: transparent;\n",
              "      border-left-color: var(--fill-color);\n",
              "      border-top-color: var(--fill-color);\n",
              "      border-right-color: var(--fill-color);\n",
              "    }\n",
              "    40% {\n",
              "      border-color: transparent;\n",
              "      border-right-color: var(--fill-color);\n",
              "      border-top-color: var(--fill-color);\n",
              "    }\n",
              "    60% {\n",
              "      border-color: transparent;\n",
              "      border-right-color: var(--fill-color);\n",
              "    }\n",
              "    80% {\n",
              "      border-color: transparent;\n",
              "      border-right-color: var(--fill-color);\n",
              "      border-bottom-color: var(--fill-color);\n",
              "    }\n",
              "    90% {\n",
              "      border-color: transparent;\n",
              "      border-bottom-color: var(--fill-color);\n",
              "    }\n",
              "  }\n",
              "</style>\n",
              "\n",
              "  <script>\n",
              "    async function quickchart(key) {\n",
              "      const quickchartButtonEl =\n",
              "        document.querySelector('#' + key + ' button');\n",
              "      quickchartButtonEl.disabled = true;  // To prevent multiple clicks.\n",
              "      quickchartButtonEl.classList.add('colab-df-spinner');\n",
              "      try {\n",
              "        const charts = await google.colab.kernel.invokeFunction(\n",
              "            'suggestCharts', [key], {});\n",
              "      } catch (error) {\n",
              "        console.error('Error during call to suggestCharts:', error);\n",
              "      }\n",
              "      quickchartButtonEl.classList.remove('colab-df-spinner');\n",
              "      quickchartButtonEl.classList.add('colab-df-quickchart-complete');\n",
              "    }\n",
              "    (() => {\n",
              "      let quickchartButtonEl =\n",
              "        document.querySelector('#df-b690d59b-0caa-491e-8d6b-9356f44eca2d button');\n",
              "      quickchartButtonEl.style.display =\n",
              "        google.colab.kernel.accessAllowed ? 'block' : 'none';\n",
              "    })();\n",
              "  </script>\n",
              "</div>\n",
              "\n",
              "  <div id=\"id_2a5aeff4-5a81-4956-bda3-9cc95e5d394b\">\n",
              "    <style>\n",
              "      .colab-df-generate {\n",
              "        background-color: #E8F0FE;\n",
              "        border: none;\n",
              "        border-radius: 50%;\n",
              "        cursor: pointer;\n",
              "        display: none;\n",
              "        fill: #1967D2;\n",
              "        height: 32px;\n",
              "        padding: 0 0 0 0;\n",
              "        width: 32px;\n",
              "      }\n",
              "\n",
              "      .colab-df-generate:hover {\n",
              "        background-color: #E2EBFA;\n",
              "        box-shadow: 0px 1px 2px rgba(60, 64, 67, 0.3), 0px 1px 3px 1px rgba(60, 64, 67, 0.15);\n",
              "        fill: #174EA6;\n",
              "      }\n",
              "\n",
              "      [theme=dark] .colab-df-generate {\n",
              "        background-color: #3B4455;\n",
              "        fill: #D2E3FC;\n",
              "      }\n",
              "\n",
              "      [theme=dark] .colab-df-generate:hover {\n",
              "        background-color: #434B5C;\n",
              "        box-shadow: 0px 1px 3px 1px rgba(0, 0, 0, 0.15);\n",
              "        filter: drop-shadow(0px 1px 2px rgba(0, 0, 0, 0.3));\n",
              "        fill: #FFFFFF;\n",
              "      }\n",
              "    </style>\n",
              "    <button class=\"colab-df-generate\" onclick=\"generateWithVariable('df')\"\n",
              "            title=\"Generate code using this dataframe.\"\n",
              "            style=\"display:none;\">\n",
              "\n",
              "  <svg xmlns=\"http://www.w3.org/2000/svg\" height=\"24px\"viewBox=\"0 0 24 24\"\n",
              "       width=\"24px\">\n",
              "    <path d=\"M7,19H8.4L18.45,9,17,7.55,7,17.6ZM5,21V16.75L18.45,3.32a2,2,0,0,1,2.83,0l1.4,1.43a1.91,1.91,0,0,1,.58,1.4,1.91,1.91,0,0,1-.58,1.4L9.25,21ZM18.45,9,17,7.55Zm-12,3A5.31,5.31,0,0,0,4.9,8.1,5.31,5.31,0,0,0,1,6.5,5.31,5.31,0,0,0,4.9,4.9,5.31,5.31,0,0,0,6.5,1,5.31,5.31,0,0,0,8.1,4.9,5.31,5.31,0,0,0,12,6.5,5.46,5.46,0,0,0,6.5,12Z\"/>\n",
              "  </svg>\n",
              "    </button>\n",
              "    <script>\n",
              "      (() => {\n",
              "      const buttonEl =\n",
              "        document.querySelector('#id_2a5aeff4-5a81-4956-bda3-9cc95e5d394b button.colab-df-generate');\n",
              "      buttonEl.style.display =\n",
              "        google.colab.kernel.accessAllowed ? 'block' : 'none';\n",
              "\n",
              "      buttonEl.onclick = () => {\n",
              "        google.colab.notebook.generateWithVariable('df');\n",
              "      }\n",
              "      })();\n",
              "    </script>\n",
              "  </div>\n",
              "\n",
              "    </div>\n",
              "  </div>\n"
            ],
            "application/vnd.google.colaboratory.intrinsic+json": {
              "type": "dataframe",
              "variable_name": "df",
              "summary": "{\n  \"name\": \"df\",\n  \"rows\": 19,\n  \"fields\": [\n    {\n      \"column\": \"Year\",\n      \"properties\": {\n        \"dtype\": \"number\",\n        \"std\": 5,\n        \"min\": 1990,\n        \"max\": 2008,\n        \"num_unique_values\": 19,\n        \"samples\": [\n          1990,\n          1995,\n          2001\n        ],\n        \"semantic_type\": \"\",\n        \"description\": \"\"\n      }\n    },\n    {\n      \"column\": \"Australia\",\n      \"properties\": {\n        \"dtype\": \"number\",\n        \"std\": 0.8459306666686447,\n        \"min\": 1.63,\n        \"max\": 4.45,\n        \"num_unique_values\": 18,\n        \"samples\": [\n          1.96,\n          1.89,\n          1.72\n        ],\n        \"semantic_type\": \"\",\n        \"description\": \"\"\n      }\n    },\n    {\n      \"column\": \"Canada\",\n      \"properties\": {\n        \"dtype\": \"number\",\n        \"std\": 0.7866176018002574,\n        \"min\": 1.38,\n        \"max\": 4.08,\n        \"num_unique_values\": 19,\n        \"samples\": [\n          1.87,\n          1.53,\n          1.72\n        ],\n        \"semantic_type\": \"\",\n        \"description\": \"\"\n      }\n    },\n    {\n      \"column\": \"France\",\n      \"properties\": {\n        \"dtype\": \"number\",\n        \"std\": 1.1675310081410086,\n        \"min\": 3.41,\n        \"max\": 7.51,\n        \"num_unique_values\": 19,\n        \"samples\": [\n          3.63,\n          4.26,\n          3.51\n        ],\n        \"semantic_type\": \"\",\n        \"description\": \"\"\n      }\n    },\n    {\n      \"column\": \"Germany\",\n      \"properties\": {\n        \"dtype\": \"number\",\n        \"std\": 1.4257488029533139,\n        \"min\": 2.65,\n        \"max\": 7.75,\n        \"num_unique_values\": 19,\n        \"samples\": [\n          2.65,\n          3.96,\n          3.4\n        ],\n        \"semantic_type\": \"\",\n        \"description\": \"\"\n      }\n    },\n    {\n      \"column\": \"Italy\",\n      \"properties\": {\n        \"dtype\": \"number\",\n        \"std\": 1.1466100557221015,\n        \"min\": 3.57,\n        \"max\": 7.63,\n        \"num_unique_values\": 18,\n        \"samples\": [\n          4.59,\n          4.5,\n          3.84\n        ],\n        \"semantic_type\": \"\",\n        \"description\": \"\"\n      }\n    },\n    {\n      \"column\": \"Japan\",\n      \"properties\": {\n        \"dtype\": \"number\",\n        \"std\": 0.6966146207370051,\n        \"min\": 2.82,\n        \"max\": 5.74,\n        \"num_unique_values\": 18,\n        \"samples\": [\n          3.16,\n          3.46,\n          2.82\n        ],\n        \"semantic_type\": \"\",\n        \"description\": \"\"\n      }\n    },\n    {\n      \"column\": \"Mexico\",\n      \"properties\": {\n        \"dtype\": \"number\",\n        \"std\": 0.46214792194100146,\n        \"min\": 1.0,\n        \"max\": 2.45,\n        \"num_unique_values\": 19,\n        \"samples\": [\n          1.0,\n          1.11,\n          2.2\n        ],\n        \"semantic_type\": \"\",\n        \"description\": \"\"\n      }\n    },\n    {\n      \"column\": \"South Korea\",\n      \"properties\": {\n        \"dtype\": \"number\",\n        \"std\": 1.2261698078409935,\n        \"min\": 2.05,\n        \"max\": 6.21,\n        \"num_unique_values\": 19,\n        \"samples\": [\n          2.05,\n          2.94,\n          3.76\n        ],\n        \"semantic_type\": \"\",\n        \"description\": \"\"\n      }\n    },\n    {\n      \"column\": \"UK\",\n      \"properties\": {\n        \"dtype\": \"number\",\n        \"std\": 1.4551702539002977,\n        \"min\": 2.82,\n        \"max\": 7.42,\n        \"num_unique_values\": 19,\n        \"samples\": [\n          2.82,\n          3.21,\n          4.13\n        ],\n        \"semantic_type\": \"\",\n        \"description\": \"\"\n      }\n    },\n    {\n      \"column\": \"USA\",\n      \"properties\": {\n        \"dtype\": \"number\",\n        \"std\": 0.6633549322058828,\n        \"min\": 1.06,\n        \"max\": 3.27,\n        \"num_unique_values\": 17,\n        \"samples\": [\n          1.16,\n          1.14,\n          1.23\n        ],\n        \"semantic_type\": \"\",\n        \"description\": \"\"\n      }\n    }\n  ]\n}"
            }
          },
          "metadata": {},
          "execution_count": 4
        }
      ]
    },
    {
      "cell_type": "code",
      "source": [
        "from pyspark.sql import SparkSession\n",
        "spark = SparkSession.builder.appName(\"Practice\").getOrCreate()"
      ],
      "metadata": {
        "id": "0S2J3XbTvWEu"
      },
      "execution_count": null,
      "outputs": []
    },
    {
      "cell_type": "code",
      "source": [
        "spark"
      ],
      "metadata": {
        "colab": {
          "base_uri": "https://localhost:8080/",
          "height": 222
        },
        "id": "grqE2BgyvwLy",
        "outputId": "97bbb97d-9332-4869-ebd6-2f73efe97061"
      },
      "execution_count": null,
      "outputs": [
        {
          "output_type": "execute_result",
          "data": {
            "text/plain": [
              "<pyspark.sql.session.SparkSession at 0x7863e0e44e50>"
            ],
            "text/html": [
              "\n",
              "            <div>\n",
              "                <p><b>SparkSession - in-memory</b></p>\n",
              "                \n",
              "        <div>\n",
              "            <p><b>SparkContext</b></p>\n",
              "\n",
              "            <p><a href=\"http://20ae1ea8272f:4040\">Spark UI</a></p>\n",
              "\n",
              "            <dl>\n",
              "              <dt>Version</dt>\n",
              "                <dd><code>v3.5.0</code></dd>\n",
              "              <dt>Master</dt>\n",
              "                <dd><code>local[*]</code></dd>\n",
              "              <dt>AppName</dt>\n",
              "                <dd><code>Test Spark Session</code></dd>\n",
              "            </dl>\n",
              "        </div>\n",
              "        \n",
              "            </div>\n",
              "        "
            ]
          },
          "metadata": {},
          "execution_count": 10
        }
      ]
    },
    {
      "cell_type": "code",
      "source": [
        "df_pyspark=spark.read.csv('gas_prices.csv')"
      ],
      "metadata": {
        "id": "vTlcBcYmv76x"
      },
      "execution_count": null,
      "outputs": []
    },
    {
      "cell_type": "markdown",
      "source": [],
      "metadata": {
        "id": "wgMSSBWzxGU5"
      }
    },
    {
      "cell_type": "code",
      "source": [
        "df_pyspark=spark.read.option('header', 'true').csv('gas_prices.csv')"
      ],
      "metadata": {
        "id": "BL8wsovYw3tg"
      },
      "execution_count": null,
      "outputs": []
    },
    {
      "cell_type": "code",
      "source": [
        "df_pyspark.show()"
      ],
      "metadata": {
        "colab": {
          "base_uri": "https://localhost:8080/"
        },
        "id": "cA2netAAwnJn",
        "outputId": "a8e96afd-6d7b-44be-bc37-793a3c7accc7"
      },
      "execution_count": null,
      "outputs": [
        {
          "output_type": "stream",
          "name": "stdout",
          "text": [
            "+----+---------+------+------+-------+-----+-----+------+-----------+----+----+\n",
            "|Year|Australia|Canada|France|Germany|Italy|Japan|Mexico|South Korea|  UK| USA|\n",
            "+----+---------+------+------+-------+-----+-----+------+-----------+----+----+\n",
            "|1990|     NULL|  1.87|  3.63|   2.65| 4.59| 3.16|     1|       2.05|2.82|1.16|\n",
            "|1991|     1.96|  1.92|  3.45|    2.9|  4.5| 3.46|   1.3|       2.49|3.01|1.14|\n",
            "|1992|     1.89|  1.73|  3.56|   3.27| 4.53| 3.58|   1.5|       2.65|3.06|1.13|\n",
            "|1993|     1.73|  1.57|  3.41|   3.07| 3.68| 4.16|  1.56|       2.88|2.84|1.11|\n",
            "|1994|     1.84|  1.45|  3.59|   3.52|  3.7| 4.36|  1.48|       2.87|2.99|1.11|\n",
            "|1995|     1.95|  1.53|  4.26|   3.96|    4| 4.43|  1.11|       2.94|3.21|1.15|\n",
            "|1996|     2.12|  1.61|  4.41|   3.94| 4.39| 3.64|  1.25|       3.18|3.34|1.23|\n",
            "|1997|     2.05|  1.62|     4|   3.53| 4.07| 3.26|  1.47|       3.34|3.83|1.23|\n",
            "|1998|     1.63|  1.38|  3.87|   3.34| 3.84| 2.82|  1.49|       3.04|4.06|1.06|\n",
            "|1999|     1.72|  1.52|  3.85|   3.42| 3.87| 3.27|  1.79|        3.8|4.29|1.17|\n",
            "|2000|     1.94|  1.86|   3.8|   3.45| 3.77| 3.65|  2.01|       4.18|4.58|1.51|\n",
            "|2001|     1.71|  1.72|  3.51|    3.4| 3.57| 3.27|   2.2|       3.76|4.13|1.46|\n",
            "|2002|     1.76|  1.69|  3.62|   3.67| 3.74| 3.15|  2.24|       3.84|4.16|1.36|\n",
            "|2003|     2.19|  1.99|  4.35|   4.59| 4.53| 3.47|  2.04|       4.11| 4.7|1.59|\n",
            "|2004|     2.72|  2.37|  4.99|   5.24| 5.29| 3.93|  2.03|       4.51|5.56|1.88|\n",
            "|2005|     3.23|  2.89|  5.46|   5.66| 5.74| 4.28|  2.22|       5.28|5.97| 2.3|\n",
            "|2006|     3.54|  3.26|  5.88|   6.03|  6.1| 4.47|  2.31|       5.92|6.36|2.59|\n",
            "|2007|     3.85|  3.59|   6.6|   6.88| 6.73| 4.49|   2.4|       6.21|7.13| 2.8|\n",
            "|2008|     4.45|  4.08|  7.51|   7.75| 7.63| 5.74|  2.45|       5.83|7.42|3.27|\n",
            "+----+---------+------+------+-------+-----+-----+------+-----------+----+----+\n",
            "\n"
          ]
        }
      ]
    },
    {
      "cell_type": "code",
      "source": [
        "type(df_pyspark)"
      ],
      "metadata": {
        "colab": {
          "base_uri": "https://localhost:8080/",
          "height": 187
        },
        "id": "TWRjm6f2wwtu",
        "outputId": "1b10d3b9-0d77-4e16-dce7-e36f47ed8283"
      },
      "execution_count": null,
      "outputs": [
        {
          "output_type": "execute_result",
          "data": {
            "text/plain": [
              "pyspark.sql.dataframe.DataFrame"
            ],
            "text/html": [
              "<div style=\"max-width:800px; border: 1px solid var(--colab-border-color);\"><style>\n",
              "      pre.function-repr-contents {\n",
              "        overflow-x: auto;\n",
              "        padding: 8px 12px;\n",
              "        max-height: 500px;\n",
              "      }\n",
              "\n",
              "      pre.function-repr-contents.function-repr-contents-collapsed {\n",
              "        cursor: pointer;\n",
              "        max-height: 100px;\n",
              "      }\n",
              "    </style>\n",
              "    <pre style=\"white-space: initial; background:\n",
              "         var(--colab-secondary-surface-color); padding: 8px 12px;\n",
              "         border-bottom: 1px solid var(--colab-border-color);\"><b>pyspark.sql.dataframe.DataFrame</b><br/>def __init__(jdf: JavaObject, sql_ctx: Union[&#x27;SQLContext&#x27;, &#x27;SparkSession&#x27;])</pre><pre class=\"function-repr-contents function-repr-contents-collapsed\" style=\"\"><a class=\"filepath\" style=\"display:none\" href=\"#\">/opt/spark/python/pyspark/sql/dataframe.py</a>A distributed collection of data grouped into named columns.\n",
              "\n",
              ".. versionadded:: 1.3.0\n",
              "\n",
              ".. versionchanged:: 3.4.0\n",
              "    Supports Spark Connect.\n",
              "\n",
              "Examples\n",
              "--------\n",
              "A :class:`DataFrame` is equivalent to a relational table in Spark SQL,\n",
              "and can be created using various functions in :class:`SparkSession`:\n",
              "\n",
              "&gt;&gt;&gt; people = spark.createDataFrame([\n",
              "...     {&quot;deptId&quot;: 1, &quot;age&quot;: 40, &quot;name&quot;: &quot;Hyukjin Kwon&quot;, &quot;gender&quot;: &quot;M&quot;, &quot;salary&quot;: 50},\n",
              "...     {&quot;deptId&quot;: 1, &quot;age&quot;: 50, &quot;name&quot;: &quot;Takuya Ueshin&quot;, &quot;gender&quot;: &quot;M&quot;, &quot;salary&quot;: 100},\n",
              "...     {&quot;deptId&quot;: 2, &quot;age&quot;: 60, &quot;name&quot;: &quot;Xinrong Meng&quot;, &quot;gender&quot;: &quot;F&quot;, &quot;salary&quot;: 150},\n",
              "...     {&quot;deptId&quot;: 3, &quot;age&quot;: 20, &quot;name&quot;: &quot;Haejoon Lee&quot;, &quot;gender&quot;: &quot;M&quot;, &quot;salary&quot;: 200}\n",
              "... ])\n",
              "\n",
              "Once created, it can be manipulated using the various domain-specific-language\n",
              "(DSL) functions defined in: :class:`DataFrame`, :class:`Column`.\n",
              "\n",
              "To select a column from the :class:`DataFrame`, use the apply method:\n",
              "\n",
              "&gt;&gt;&gt; age_col = people.age\n",
              "\n",
              "A more concrete example:\n",
              "\n",
              "&gt;&gt;&gt; # To create DataFrame using SparkSession\n",
              "... department = spark.createDataFrame([\n",
              "...     {&quot;id&quot;: 1, &quot;name&quot;: &quot;PySpark&quot;},\n",
              "...     {&quot;id&quot;: 2, &quot;name&quot;: &quot;ML&quot;},\n",
              "...     {&quot;id&quot;: 3, &quot;name&quot;: &quot;Spark SQL&quot;}\n",
              "... ])\n",
              "\n",
              "&gt;&gt;&gt; people.filter(people.age &gt; 30).join(\n",
              "...     department, people.deptId == department.id).groupBy(\n",
              "...     department.name, &quot;gender&quot;).agg({&quot;salary&quot;: &quot;avg&quot;, &quot;age&quot;: &quot;max&quot;}).show()\n",
              "+-------+------+-----------+--------+\n",
              "|   name|gender|avg(salary)|max(age)|\n",
              "+-------+------+-----------+--------+\n",
              "|     ML|     F|      150.0|      60|\n",
              "|PySpark|     M|       75.0|      50|\n",
              "+-------+------+-----------+--------+\n",
              "\n",
              "Notes\n",
              "-----\n",
              "A DataFrame should only be created as described above. It should not be directly\n",
              "created via using the constructor.</pre>\n",
              "      <script>\n",
              "      if (google.colab.kernel.accessAllowed && google.colab.files && google.colab.files.view) {\n",
              "        for (const element of document.querySelectorAll('.filepath')) {\n",
              "          element.style.display = 'block'\n",
              "          element.onclick = (event) => {\n",
              "            event.preventDefault();\n",
              "            event.stopPropagation();\n",
              "            google.colab.files.view(element.textContent, 80);\n",
              "          };\n",
              "        }\n",
              "      }\n",
              "      for (const element of document.querySelectorAll('.function-repr-contents')) {\n",
              "        element.onclick = (event) => {\n",
              "          event.preventDefault();\n",
              "          event.stopPropagation();\n",
              "          element.classList.toggle('function-repr-contents-collapsed');\n",
              "        };\n",
              "      }\n",
              "      </script>\n",
              "      </div>"
            ]
          },
          "metadata": {},
          "execution_count": 20
        }
      ]
    },
    {
      "cell_type": "code",
      "source": [
        "df_pyspark.head(3)"
      ],
      "metadata": {
        "colab": {
          "base_uri": "https://localhost:8080/"
        },
        "id": "R-A6cUkbxg6E",
        "outputId": "5036aff0-69a3-47ee-b6b6-d36966d0d837"
      },
      "execution_count": null,
      "outputs": [
        {
          "output_type": "execute_result",
          "data": {
            "text/plain": [
              "[Row(Year='1990', Australia=None, Canada='1.87', France='3.63', Germany='2.65', Italy='4.59', Japan='3.16', Mexico='1', South Korea='2.05', UK='2.82', USA='1.16'),\n",
              " Row(Year='1991', Australia='1.96', Canada='1.92', France='3.45', Germany='2.9', Italy='4.5', Japan='3.46', Mexico='1.3', South Korea='2.49', UK='3.01', USA='1.14'),\n",
              " Row(Year='1992', Australia='1.89', Canada='1.73', France='3.56', Germany='3.27', Italy='4.53', Japan='3.58', Mexico='1.5', South Korea='2.65', UK='3.06', USA='1.13')]"
            ]
          },
          "metadata": {},
          "execution_count": 21
        }
      ]
    },
    {
      "cell_type": "code",
      "source": [
        "df_pyspark.printSchema()"
      ],
      "metadata": {
        "colab": {
          "base_uri": "https://localhost:8080/"
        },
        "id": "SjLSZGKExoVc",
        "outputId": "8bfd1a0d-9bca-43e3-d3f7-78ecbd9415b4"
      },
      "execution_count": null,
      "outputs": [
        {
          "output_type": "stream",
          "name": "stdout",
          "text": [
            "root\n",
            " |-- Year: string (nullable = true)\n",
            " |-- Australia: string (nullable = true)\n",
            " |-- Canada: string (nullable = true)\n",
            " |-- France: string (nullable = true)\n",
            " |-- Germany: string (nullable = true)\n",
            " |-- Italy: string (nullable = true)\n",
            " |-- Japan: string (nullable = true)\n",
            " |-- Mexico: string (nullable = true)\n",
            " |-- South Korea: string (nullable = true)\n",
            " |-- UK: string (nullable = true)\n",
            " |-- USA: string (nullable = true)\n",
            "\n"
          ]
        }
      ]
    },
    {
      "cell_type": "markdown",
      "source": [
        "\n",
        "* PySpark Dataframe\n",
        "* Reading The Dataset\n",
        "* Checking the Datatypes of the Column(Schema)\n",
        "* Selecting Columns And Indexing\n",
        "* Check Describe option similar to Pandas\n",
        "* Adding Columns\n",
        "* Dropping columns\n",
        "* Renaming Columns\n",
        "\n"
      ],
      "metadata": {
        "id": "uRSH5Bwhx2KF"
      }
    },
    {
      "cell_type": "code",
      "source": [
        "from pyspark.sql import SparkSession"
      ],
      "metadata": {
        "id": "jMPieWL3yI1_"
      },
      "execution_count": null,
      "outputs": []
    },
    {
      "cell_type": "code",
      "source": [
        "spark=SparkSession.builder.appName('Dataframe').getOrCreate()"
      ],
      "metadata": {
        "id": "sJyz2WCwylHN"
      },
      "execution_count": null,
      "outputs": []
    },
    {
      "cell_type": "code",
      "source": [
        "spark"
      ],
      "metadata": {
        "colab": {
          "base_uri": "https://localhost:8080/",
          "height": 222
        },
        "id": "XEplHx-9yve7",
        "outputId": "349320ba-67cf-4720-9e08-b5c0ac546b2e"
      },
      "execution_count": null,
      "outputs": [
        {
          "output_type": "execute_result",
          "data": {
            "text/plain": [
              "<pyspark.sql.session.SparkSession at 0x7863e0e44e50>"
            ],
            "text/html": [
              "\n",
              "            <div>\n",
              "                <p><b>SparkSession - in-memory</b></p>\n",
              "                \n",
              "        <div>\n",
              "            <p><b>SparkContext</b></p>\n",
              "\n",
              "            <p><a href=\"http://20ae1ea8272f:4040\">Spark UI</a></p>\n",
              "\n",
              "            <dl>\n",
              "              <dt>Version</dt>\n",
              "                <dd><code>v3.5.0</code></dd>\n",
              "              <dt>Master</dt>\n",
              "                <dd><code>local[*]</code></dd>\n",
              "              <dt>AppName</dt>\n",
              "                <dd><code>Test Spark Session</code></dd>\n",
              "            </dl>\n",
              "        </div>\n",
              "        \n",
              "            </div>\n",
              "        "
            ]
          },
          "metadata": {},
          "execution_count": 25
        }
      ]
    },
    {
      "cell_type": "code",
      "source": [
        "## Read the dataset\n",
        "df_pyspark=spark.read.option('header','true').csv('gas_prices.csv', inferSchema=True)"
      ],
      "metadata": {
        "id": "IVJv5h__yxHE"
      },
      "execution_count": null,
      "outputs": []
    },
    {
      "cell_type": "code",
      "source": [
        "df_pyspark=spark.read.csv('gas_prices.csv', header=True, inferSchema=True)\n",
        "df_pyspark.show()"
      ],
      "metadata": {
        "colab": {
          "base_uri": "https://localhost:8080/"
        },
        "id": "N_votBsozXtx",
        "outputId": "f58f390b-ca79-452a-e1f3-0cbe921df3dd"
      },
      "execution_count": null,
      "outputs": [
        {
          "output_type": "stream",
          "name": "stdout",
          "text": [
            "+----+---------+------+------+-------+-----+-----+------+-----------+----+----+\n",
            "|Year|Australia|Canada|France|Germany|Italy|Japan|Mexico|South Korea|  UK| USA|\n",
            "+----+---------+------+------+-------+-----+-----+------+-----------+----+----+\n",
            "|1990|     NULL|  1.87|  3.63|   2.65| 4.59| 3.16|   1.0|       2.05|2.82|1.16|\n",
            "|1991|     1.96|  1.92|  3.45|    2.9|  4.5| 3.46|   1.3|       2.49|3.01|1.14|\n",
            "|1992|     1.89|  1.73|  3.56|   3.27| 4.53| 3.58|   1.5|       2.65|3.06|1.13|\n",
            "|1993|     1.73|  1.57|  3.41|   3.07| 3.68| 4.16|  1.56|       2.88|2.84|1.11|\n",
            "|1994|     1.84|  1.45|  3.59|   3.52|  3.7| 4.36|  1.48|       2.87|2.99|1.11|\n",
            "|1995|     1.95|  1.53|  4.26|   3.96|  4.0| 4.43|  1.11|       2.94|3.21|1.15|\n",
            "|1996|     2.12|  1.61|  4.41|   3.94| 4.39| 3.64|  1.25|       3.18|3.34|1.23|\n",
            "|1997|     2.05|  1.62|   4.0|   3.53| 4.07| 3.26|  1.47|       3.34|3.83|1.23|\n",
            "|1998|     1.63|  1.38|  3.87|   3.34| 3.84| 2.82|  1.49|       3.04|4.06|1.06|\n",
            "|1999|     1.72|  1.52|  3.85|   3.42| 3.87| 3.27|  1.79|        3.8|4.29|1.17|\n",
            "|2000|     1.94|  1.86|   3.8|   3.45| 3.77| 3.65|  2.01|       4.18|4.58|1.51|\n",
            "|2001|     1.71|  1.72|  3.51|    3.4| 3.57| 3.27|   2.2|       3.76|4.13|1.46|\n",
            "|2002|     1.76|  1.69|  3.62|   3.67| 3.74| 3.15|  2.24|       3.84|4.16|1.36|\n",
            "|2003|     2.19|  1.99|  4.35|   4.59| 4.53| 3.47|  2.04|       4.11| 4.7|1.59|\n",
            "|2004|     2.72|  2.37|  4.99|   5.24| 5.29| 3.93|  2.03|       4.51|5.56|1.88|\n",
            "|2005|     3.23|  2.89|  5.46|   5.66| 5.74| 4.28|  2.22|       5.28|5.97| 2.3|\n",
            "|2006|     3.54|  3.26|  5.88|   6.03|  6.1| 4.47|  2.31|       5.92|6.36|2.59|\n",
            "|2007|     3.85|  3.59|   6.6|   6.88| 6.73| 4.49|   2.4|       6.21|7.13| 2.8|\n",
            "|2008|     4.45|  4.08|  7.51|   7.75| 7.63| 5.74|  2.45|       5.83|7.42|3.27|\n",
            "+----+---------+------+------+-------+-----+-----+------+-----------+----+----+\n",
            "\n"
          ]
        }
      ]
    },
    {
      "cell_type": "code",
      "source": [
        "## Check the schema\n",
        "df_pyspark.printSchema()"
      ],
      "metadata": {
        "colab": {
          "base_uri": "https://localhost:8080/"
        },
        "id": "7pe2kLtGzEtX",
        "outputId": "69a49058-77f6-4942-f96f-0a7c0d0a44c2"
      },
      "execution_count": null,
      "outputs": [
        {
          "output_type": "stream",
          "name": "stdout",
          "text": [
            "root\n",
            " |-- Year: integer (nullable = true)\n",
            " |-- Australia: double (nullable = true)\n",
            " |-- Canada: double (nullable = true)\n",
            " |-- France: double (nullable = true)\n",
            " |-- Germany: double (nullable = true)\n",
            " |-- Italy: double (nullable = true)\n",
            " |-- Japan: double (nullable = true)\n",
            " |-- Mexico: double (nullable = true)\n",
            " |-- South Korea: double (nullable = true)\n",
            " |-- UK: double (nullable = true)\n",
            " |-- USA: double (nullable = true)\n",
            "\n"
          ]
        }
      ]
    },
    {
      "cell_type": "code",
      "source": [
        "type(df_pyspark)"
      ],
      "metadata": {
        "colab": {
          "base_uri": "https://localhost:8080/",
          "height": 187
        },
        "id": "bydCpdrhztQK",
        "outputId": "6fd48b68-faf4-43da-d91c-dd9e1f9a5142"
      },
      "execution_count": null,
      "outputs": [
        {
          "output_type": "execute_result",
          "data": {
            "text/plain": [
              "pyspark.sql.dataframe.DataFrame"
            ],
            "text/html": [
              "<div style=\"max-width:800px; border: 1px solid var(--colab-border-color);\"><style>\n",
              "      pre.function-repr-contents {\n",
              "        overflow-x: auto;\n",
              "        padding: 8px 12px;\n",
              "        max-height: 500px;\n",
              "      }\n",
              "\n",
              "      pre.function-repr-contents.function-repr-contents-collapsed {\n",
              "        cursor: pointer;\n",
              "        max-height: 100px;\n",
              "      }\n",
              "    </style>\n",
              "    <pre style=\"white-space: initial; background:\n",
              "         var(--colab-secondary-surface-color); padding: 8px 12px;\n",
              "         border-bottom: 1px solid var(--colab-border-color);\"><b>pyspark.sql.dataframe.DataFrame</b><br/>def __init__(jdf: JavaObject, sql_ctx: Union[&#x27;SQLContext&#x27;, &#x27;SparkSession&#x27;])</pre><pre class=\"function-repr-contents function-repr-contents-collapsed\" style=\"\"><a class=\"filepath\" style=\"display:none\" href=\"#\">/opt/spark/python/pyspark/sql/dataframe.py</a>A distributed collection of data grouped into named columns.\n",
              "\n",
              ".. versionadded:: 1.3.0\n",
              "\n",
              ".. versionchanged:: 3.4.0\n",
              "    Supports Spark Connect.\n",
              "\n",
              "Examples\n",
              "--------\n",
              "A :class:`DataFrame` is equivalent to a relational table in Spark SQL,\n",
              "and can be created using various functions in :class:`SparkSession`:\n",
              "\n",
              "&gt;&gt;&gt; people = spark.createDataFrame([\n",
              "...     {&quot;deptId&quot;: 1, &quot;age&quot;: 40, &quot;name&quot;: &quot;Hyukjin Kwon&quot;, &quot;gender&quot;: &quot;M&quot;, &quot;salary&quot;: 50},\n",
              "...     {&quot;deptId&quot;: 1, &quot;age&quot;: 50, &quot;name&quot;: &quot;Takuya Ueshin&quot;, &quot;gender&quot;: &quot;M&quot;, &quot;salary&quot;: 100},\n",
              "...     {&quot;deptId&quot;: 2, &quot;age&quot;: 60, &quot;name&quot;: &quot;Xinrong Meng&quot;, &quot;gender&quot;: &quot;F&quot;, &quot;salary&quot;: 150},\n",
              "...     {&quot;deptId&quot;: 3, &quot;age&quot;: 20, &quot;name&quot;: &quot;Haejoon Lee&quot;, &quot;gender&quot;: &quot;M&quot;, &quot;salary&quot;: 200}\n",
              "... ])\n",
              "\n",
              "Once created, it can be manipulated using the various domain-specific-language\n",
              "(DSL) functions defined in: :class:`DataFrame`, :class:`Column`.\n",
              "\n",
              "To select a column from the :class:`DataFrame`, use the apply method:\n",
              "\n",
              "&gt;&gt;&gt; age_col = people.age\n",
              "\n",
              "A more concrete example:\n",
              "\n",
              "&gt;&gt;&gt; # To create DataFrame using SparkSession\n",
              "... department = spark.createDataFrame([\n",
              "...     {&quot;id&quot;: 1, &quot;name&quot;: &quot;PySpark&quot;},\n",
              "...     {&quot;id&quot;: 2, &quot;name&quot;: &quot;ML&quot;},\n",
              "...     {&quot;id&quot;: 3, &quot;name&quot;: &quot;Spark SQL&quot;}\n",
              "... ])\n",
              "\n",
              "&gt;&gt;&gt; people.filter(people.age &gt; 30).join(\n",
              "...     department, people.deptId == department.id).groupBy(\n",
              "...     department.name, &quot;gender&quot;).agg({&quot;salary&quot;: &quot;avg&quot;, &quot;age&quot;: &quot;max&quot;}).show()\n",
              "+-------+------+-----------+--------+\n",
              "|   name|gender|avg(salary)|max(age)|\n",
              "+-------+------+-----------+--------+\n",
              "|     ML|     F|      150.0|      60|\n",
              "|PySpark|     M|       75.0|      50|\n",
              "+-------+------+-----------+--------+\n",
              "\n",
              "Notes\n",
              "-----\n",
              "A DataFrame should only be created as described above. It should not be directly\n",
              "created via using the constructor.</pre>\n",
              "      <script>\n",
              "      if (google.colab.kernel.accessAllowed && google.colab.files && google.colab.files.view) {\n",
              "        for (const element of document.querySelectorAll('.filepath')) {\n",
              "          element.style.display = 'block'\n",
              "          element.onclick = (event) => {\n",
              "            event.preventDefault();\n",
              "            event.stopPropagation();\n",
              "            google.colab.files.view(element.textContent, 80);\n",
              "          };\n",
              "        }\n",
              "      }\n",
              "      for (const element of document.querySelectorAll('.function-repr-contents')) {\n",
              "        element.onclick = (event) => {\n",
              "          event.preventDefault();\n",
              "          event.stopPropagation();\n",
              "          element.classList.toggle('function-repr-contents-collapsed');\n",
              "        };\n",
              "      }\n",
              "      </script>\n",
              "      </div>"
            ]
          },
          "metadata": {},
          "execution_count": 33
        }
      ]
    },
    {
      "cell_type": "code",
      "source": [
        "df_pyspark.columns\n",
        "df_pyspark.head(5)"
      ],
      "metadata": {
        "colab": {
          "base_uri": "https://localhost:8080/"
        },
        "id": "zX0EoKSPz137",
        "outputId": "c504f575-5a28-41db-de21-899e447af9da"
      },
      "execution_count": null,
      "outputs": [
        {
          "output_type": "execute_result",
          "data": {
            "text/plain": [
              "[Row(Year=1990, Australia=None, Canada=1.87, France=3.63, Germany=2.65, Italy=4.59, Japan=3.16, Mexico=1.0, South Korea=2.05, UK=2.82, USA=1.16),\n",
              " Row(Year=1991, Australia=1.96, Canada=1.92, France=3.45, Germany=2.9, Italy=4.5, Japan=3.46, Mexico=1.3, South Korea=2.49, UK=3.01, USA=1.14),\n",
              " Row(Year=1992, Australia=1.89, Canada=1.73, France=3.56, Germany=3.27, Italy=4.53, Japan=3.58, Mexico=1.5, South Korea=2.65, UK=3.06, USA=1.13),\n",
              " Row(Year=1993, Australia=1.73, Canada=1.57, France=3.41, Germany=3.07, Italy=3.68, Japan=4.16, Mexico=1.56, South Korea=2.88, UK=2.84, USA=1.11),\n",
              " Row(Year=1994, Australia=1.84, Canada=1.45, France=3.59, Germany=3.52, Italy=3.7, Japan=4.36, Mexico=1.48, South Korea=2.87, UK=2.99, USA=1.11)]"
            ]
          },
          "metadata": {},
          "execution_count": 36
        }
      ]
    },
    {
      "cell_type": "code",
      "source": [
        "df_pyspark.show()"
      ],
      "metadata": {
        "colab": {
          "base_uri": "https://localhost:8080/"
        },
        "id": "yeRiN6Nx0DMd",
        "outputId": "ba9e8212-01eb-446f-a059-135bebe88dff"
      },
      "execution_count": null,
      "outputs": [
        {
          "output_type": "stream",
          "name": "stdout",
          "text": [
            "+----+---------+------+------+-------+-----+-----+------+-----------+----+----+\n",
            "|Year|Australia|Canada|France|Germany|Italy|Japan|Mexico|South Korea|  UK| USA|\n",
            "+----+---------+------+------+-------+-----+-----+------+-----------+----+----+\n",
            "|1990|     NULL|  1.87|  3.63|   2.65| 4.59| 3.16|   1.0|       2.05|2.82|1.16|\n",
            "|1991|     1.96|  1.92|  3.45|    2.9|  4.5| 3.46|   1.3|       2.49|3.01|1.14|\n",
            "|1992|     1.89|  1.73|  3.56|   3.27| 4.53| 3.58|   1.5|       2.65|3.06|1.13|\n",
            "|1993|     1.73|  1.57|  3.41|   3.07| 3.68| 4.16|  1.56|       2.88|2.84|1.11|\n",
            "|1994|     1.84|  1.45|  3.59|   3.52|  3.7| 4.36|  1.48|       2.87|2.99|1.11|\n",
            "|1995|     1.95|  1.53|  4.26|   3.96|  4.0| 4.43|  1.11|       2.94|3.21|1.15|\n",
            "|1996|     2.12|  1.61|  4.41|   3.94| 4.39| 3.64|  1.25|       3.18|3.34|1.23|\n",
            "|1997|     2.05|  1.62|   4.0|   3.53| 4.07| 3.26|  1.47|       3.34|3.83|1.23|\n",
            "|1998|     1.63|  1.38|  3.87|   3.34| 3.84| 2.82|  1.49|       3.04|4.06|1.06|\n",
            "|1999|     1.72|  1.52|  3.85|   3.42| 3.87| 3.27|  1.79|        3.8|4.29|1.17|\n",
            "|2000|     1.94|  1.86|   3.8|   3.45| 3.77| 3.65|  2.01|       4.18|4.58|1.51|\n",
            "|2001|     1.71|  1.72|  3.51|    3.4| 3.57| 3.27|   2.2|       3.76|4.13|1.46|\n",
            "|2002|     1.76|  1.69|  3.62|   3.67| 3.74| 3.15|  2.24|       3.84|4.16|1.36|\n",
            "|2003|     2.19|  1.99|  4.35|   4.59| 4.53| 3.47|  2.04|       4.11| 4.7|1.59|\n",
            "|2004|     2.72|  2.37|  4.99|   5.24| 5.29| 3.93|  2.03|       4.51|5.56|1.88|\n",
            "|2005|     3.23|  2.89|  5.46|   5.66| 5.74| 4.28|  2.22|       5.28|5.97| 2.3|\n",
            "|2006|     3.54|  3.26|  5.88|   6.03|  6.1| 4.47|  2.31|       5.92|6.36|2.59|\n",
            "|2007|     3.85|  3.59|   6.6|   6.88| 6.73| 4.49|   2.4|       6.21|7.13| 2.8|\n",
            "|2008|     4.45|  4.08|  7.51|   7.75| 7.63| 5.74|  2.45|       5.83|7.42|3.27|\n",
            "+----+---------+------+------+-------+-----+-----+------+-----------+----+----+\n",
            "\n"
          ]
        }
      ]
    },
    {
      "cell_type": "code",
      "source": [
        "df_pyspark.select(['Year','USA', 'UK']).show()"
      ],
      "metadata": {
        "colab": {
          "base_uri": "https://localhost:8080/"
        },
        "id": "YUQKtlkC0H9M",
        "outputId": "1b1d1ab4-fd6c-40d7-ac23-b92a8af41baf"
      },
      "execution_count": null,
      "outputs": [
        {
          "output_type": "stream",
          "name": "stdout",
          "text": [
            "+----+----+----+\n",
            "|Year| USA|  UK|\n",
            "+----+----+----+\n",
            "|1990|1.16|2.82|\n",
            "|1991|1.14|3.01|\n",
            "|1992|1.13|3.06|\n",
            "|1993|1.11|2.84|\n",
            "|1994|1.11|2.99|\n",
            "|1995|1.15|3.21|\n",
            "|1996|1.23|3.34|\n",
            "|1997|1.23|3.83|\n",
            "|1998|1.06|4.06|\n",
            "|1999|1.17|4.29|\n",
            "|2000|1.51|4.58|\n",
            "|2001|1.46|4.13|\n",
            "|2002|1.36|4.16|\n",
            "|2003|1.59| 4.7|\n",
            "|2004|1.88|5.56|\n",
            "|2005| 2.3|5.97|\n",
            "|2006|2.59|6.36|\n",
            "|2007| 2.8|7.13|\n",
            "|2008|3.27|7.42|\n",
            "+----+----+----+\n",
            "\n"
          ]
        }
      ]
    },
    {
      "cell_type": "code",
      "source": [
        "df_pyspark.dtypes"
      ],
      "metadata": {
        "colab": {
          "base_uri": "https://localhost:8080/"
        },
        "id": "m-6qpDVP0qhC",
        "outputId": "c40bea6d-64b0-4424-b6be-b3bed86bcf70"
      },
      "execution_count": null,
      "outputs": [
        {
          "output_type": "execute_result",
          "data": {
            "text/plain": [
              "[('Year', 'int'),\n",
              " ('Australia', 'double'),\n",
              " ('Canada', 'double'),\n",
              " ('France', 'double'),\n",
              " ('Germany', 'double'),\n",
              " ('Italy', 'double'),\n",
              " ('Japan', 'double'),\n",
              " ('Mexico', 'double'),\n",
              " ('South Korea', 'double'),\n",
              " ('UK', 'double'),\n",
              " ('USA', 'double')]"
            ]
          },
          "metadata": {},
          "execution_count": 44
        }
      ]
    },
    {
      "cell_type": "code",
      "source": [
        "df_pyspark.describe().show()"
      ],
      "metadata": {
        "colab": {
          "base_uri": "https://localhost:8080/"
        },
        "id": "oClk6Kwr06xC",
        "outputId": "7f0fe171-bbbb-4977-d0b9-2977543b50ea"
      },
      "execution_count": null,
      "outputs": [
        {
          "output_type": "stream",
          "name": "stdout",
          "text": [
            "+-------+-----------------+------------------+------------------+------------------+------------------+------------------+------------------+-------------------+------------------+------------------+------------------+\n",
            "|summary|             Year|         Australia|            Canada|            France|           Germany|             Italy|             Japan|             Mexico|       South Korea|                UK|               USA|\n",
            "+-------+-----------------+------------------+------------------+------------------+------------------+------------------+------------------+-------------------+------------------+------------------+------------------+\n",
            "|  count|               19|                18|                19|                19|                19|                19|                19|                 19|                19|                19|                19|\n",
            "|   mean|           1999.0|2.3488888888888892|2.0868421052631576| 4.407894736842105| 4.224736842105264| 4.645789473684211|3.8205263157894733| 1.7815789473684207|  3.83578947368421| 4.392631578947369|1.5921052631578947|\n",
            "| stddev|5.627314338711377|0.8459306666686447|0.7866176018002574|1.1675310081410086|1.4257488029533134|1.1466100557221015|0.6966146207370051|0.46214792194100135|1.2261698078409935|1.4551702539002975|0.6633549322058827|\n",
            "|    min|             1990|              1.63|              1.38|              3.41|              2.65|              3.57|              2.82|                1.0|              2.05|              2.82|              1.06|\n",
            "|    max|             2008|              4.45|              4.08|              7.51|              7.75|              7.63|              5.74|               2.45|              6.21|              7.42|              3.27|\n",
            "+-------+-----------------+------------------+------------------+------------------+------------------+------------------+------------------+-------------------+------------------+------------------+------------------+\n",
            "\n"
          ]
        }
      ]
    },
    {
      "cell_type": "code",
      "source": [
        "## Adding columns in Datafram\n",
        "df_pyspark_temp=df_pyspark.withColumn('USA New Column', df_pyspark['USA']+5.2)"
      ],
      "metadata": {
        "id": "-Cfs5PTy1Ijd"
      },
      "execution_count": null,
      "outputs": []
    },
    {
      "cell_type": "code",
      "source": [
        "df_pyspark_temp.show()"
      ],
      "metadata": {
        "colab": {
          "base_uri": "https://localhost:8080/"
        },
        "id": "V8go-WvJ1mTo",
        "outputId": "91e45fab-9e19-4c67-a113-664ef6b33c89"
      },
      "execution_count": null,
      "outputs": [
        {
          "output_type": "stream",
          "name": "stdout",
          "text": [
            "+----+---------+------+------+-------+-----+-----+------+-----------+----+----+------------------+\n",
            "|Year|Australia|Canada|France|Germany|Italy|Japan|Mexico|South Korea|  UK| USA|    USA New Column|\n",
            "+----+---------+------+------+-------+-----+-----+------+-----------+----+----+------------------+\n",
            "|1990|     NULL|  1.87|  3.63|   2.65| 4.59| 3.16|   1.0|       2.05|2.82|1.16|              6.36|\n",
            "|1991|     1.96|  1.92|  3.45|    2.9|  4.5| 3.46|   1.3|       2.49|3.01|1.14|              6.34|\n",
            "|1992|     1.89|  1.73|  3.56|   3.27| 4.53| 3.58|   1.5|       2.65|3.06|1.13|              6.33|\n",
            "|1993|     1.73|  1.57|  3.41|   3.07| 3.68| 4.16|  1.56|       2.88|2.84|1.11|6.3100000000000005|\n",
            "|1994|     1.84|  1.45|  3.59|   3.52|  3.7| 4.36|  1.48|       2.87|2.99|1.11|6.3100000000000005|\n",
            "|1995|     1.95|  1.53|  4.26|   3.96|  4.0| 4.43|  1.11|       2.94|3.21|1.15|              6.35|\n",
            "|1996|     2.12|  1.61|  4.41|   3.94| 4.39| 3.64|  1.25|       3.18|3.34|1.23|              6.43|\n",
            "|1997|     2.05|  1.62|   4.0|   3.53| 4.07| 3.26|  1.47|       3.34|3.83|1.23|              6.43|\n",
            "|1998|     1.63|  1.38|  3.87|   3.34| 3.84| 2.82|  1.49|       3.04|4.06|1.06|              6.26|\n",
            "|1999|     1.72|  1.52|  3.85|   3.42| 3.87| 3.27|  1.79|        3.8|4.29|1.17|              6.37|\n",
            "|2000|     1.94|  1.86|   3.8|   3.45| 3.77| 3.65|  2.01|       4.18|4.58|1.51|              6.71|\n",
            "|2001|     1.71|  1.72|  3.51|    3.4| 3.57| 3.27|   2.2|       3.76|4.13|1.46|              6.66|\n",
            "|2002|     1.76|  1.69|  3.62|   3.67| 3.74| 3.15|  2.24|       3.84|4.16|1.36|6.5600000000000005|\n",
            "|2003|     2.19|  1.99|  4.35|   4.59| 4.53| 3.47|  2.04|       4.11| 4.7|1.59|              6.79|\n",
            "|2004|     2.72|  2.37|  4.99|   5.24| 5.29| 3.93|  2.03|       4.51|5.56|1.88|              7.08|\n",
            "|2005|     3.23|  2.89|  5.46|   5.66| 5.74| 4.28|  2.22|       5.28|5.97| 2.3|               7.5|\n",
            "|2006|     3.54|  3.26|  5.88|   6.03|  6.1| 4.47|  2.31|       5.92|6.36|2.59|              7.79|\n",
            "|2007|     3.85|  3.59|   6.6|   6.88| 6.73| 4.49|   2.4|       6.21|7.13| 2.8|               8.0|\n",
            "|2008|     4.45|  4.08|  7.51|   7.75| 7.63| 5.74|  2.45|       5.83|7.42|3.27|              8.47|\n",
            "+----+---------+------+------+-------+-----+-----+------+-----------+----+----+------------------+\n",
            "\n"
          ]
        }
      ]
    },
    {
      "cell_type": "code",
      "source": [
        "df_pyspark_temp=df_pyspark_temp.drop('USA New Column')"
      ],
      "metadata": {
        "id": "lGx2ffQ41y_w"
      },
      "execution_count": null,
      "outputs": []
    },
    {
      "cell_type": "code",
      "source": [
        "df_pyspark_temp.show()"
      ],
      "metadata": {
        "colab": {
          "base_uri": "https://localhost:8080/"
        },
        "id": "ScPIrcvT1-Dw",
        "outputId": "6e11938c-861c-4e03-adf7-e7079aa4a875"
      },
      "execution_count": null,
      "outputs": [
        {
          "output_type": "stream",
          "name": "stdout",
          "text": [
            "+----+---------+------+------+-------+-----+-----+------+-----------+----+----+\n",
            "|Year|Australia|Canada|France|Germany|Italy|Japan|Mexico|South Korea|  UK| USA|\n",
            "+----+---------+------+------+-------+-----+-----+------+-----------+----+----+\n",
            "|1990|     NULL|  1.87|  3.63|   2.65| 4.59| 3.16|   1.0|       2.05|2.82|1.16|\n",
            "|1991|     1.96|  1.92|  3.45|    2.9|  4.5| 3.46|   1.3|       2.49|3.01|1.14|\n",
            "|1992|     1.89|  1.73|  3.56|   3.27| 4.53| 3.58|   1.5|       2.65|3.06|1.13|\n",
            "|1993|     1.73|  1.57|  3.41|   3.07| 3.68| 4.16|  1.56|       2.88|2.84|1.11|\n",
            "|1994|     1.84|  1.45|  3.59|   3.52|  3.7| 4.36|  1.48|       2.87|2.99|1.11|\n",
            "|1995|     1.95|  1.53|  4.26|   3.96|  4.0| 4.43|  1.11|       2.94|3.21|1.15|\n",
            "|1996|     2.12|  1.61|  4.41|   3.94| 4.39| 3.64|  1.25|       3.18|3.34|1.23|\n",
            "|1997|     2.05|  1.62|   4.0|   3.53| 4.07| 3.26|  1.47|       3.34|3.83|1.23|\n",
            "|1998|     1.63|  1.38|  3.87|   3.34| 3.84| 2.82|  1.49|       3.04|4.06|1.06|\n",
            "|1999|     1.72|  1.52|  3.85|   3.42| 3.87| 3.27|  1.79|        3.8|4.29|1.17|\n",
            "|2000|     1.94|  1.86|   3.8|   3.45| 3.77| 3.65|  2.01|       4.18|4.58|1.51|\n",
            "|2001|     1.71|  1.72|  3.51|    3.4| 3.57| 3.27|   2.2|       3.76|4.13|1.46|\n",
            "|2002|     1.76|  1.69|  3.62|   3.67| 3.74| 3.15|  2.24|       3.84|4.16|1.36|\n",
            "|2003|     2.19|  1.99|  4.35|   4.59| 4.53| 3.47|  2.04|       4.11| 4.7|1.59|\n",
            "|2004|     2.72|  2.37|  4.99|   5.24| 5.29| 3.93|  2.03|       4.51|5.56|1.88|\n",
            "|2005|     3.23|  2.89|  5.46|   5.66| 5.74| 4.28|  2.22|       5.28|5.97| 2.3|\n",
            "|2006|     3.54|  3.26|  5.88|   6.03|  6.1| 4.47|  2.31|       5.92|6.36|2.59|\n",
            "|2007|     3.85|  3.59|   6.6|   6.88| 6.73| 4.49|   2.4|       6.21|7.13| 2.8|\n",
            "|2008|     4.45|  4.08|  7.51|   7.75| 7.63| 5.74|  2.45|       5.83|7.42|3.27|\n",
            "+----+---------+------+------+-------+-----+-----+------+-----------+----+----+\n",
            "\n"
          ]
        }
      ]
    },
    {
      "cell_type": "code",
      "source": [
        "### Rename the columns\n",
        "df_pyspark_temp.withColumnRenamed('USA', 'USA_Renamed').show()"
      ],
      "metadata": {
        "colab": {
          "base_uri": "https://localhost:8080/"
        },
        "id": "ZE_VXUFg1_hR",
        "outputId": "86667e4b-a1e7-49e3-f278-dccfad5b27e0"
      },
      "execution_count": null,
      "outputs": [
        {
          "output_type": "stream",
          "name": "stdout",
          "text": [
            "+----+---------+------+------+-------+-----+-----+------+-----------+----+-----------+\n",
            "|Year|Australia|Canada|France|Germany|Italy|Japan|Mexico|South Korea|  UK|USA_Renamed|\n",
            "+----+---------+------+------+-------+-----+-----+------+-----------+----+-----------+\n",
            "|1990|     NULL|  1.87|  3.63|   2.65| 4.59| 3.16|   1.0|       2.05|2.82|       1.16|\n",
            "|1991|     1.96|  1.92|  3.45|    2.9|  4.5| 3.46|   1.3|       2.49|3.01|       1.14|\n",
            "|1992|     1.89|  1.73|  3.56|   3.27| 4.53| 3.58|   1.5|       2.65|3.06|       1.13|\n",
            "|1993|     1.73|  1.57|  3.41|   3.07| 3.68| 4.16|  1.56|       2.88|2.84|       1.11|\n",
            "|1994|     1.84|  1.45|  3.59|   3.52|  3.7| 4.36|  1.48|       2.87|2.99|       1.11|\n",
            "|1995|     1.95|  1.53|  4.26|   3.96|  4.0| 4.43|  1.11|       2.94|3.21|       1.15|\n",
            "|1996|     2.12|  1.61|  4.41|   3.94| 4.39| 3.64|  1.25|       3.18|3.34|       1.23|\n",
            "|1997|     2.05|  1.62|   4.0|   3.53| 4.07| 3.26|  1.47|       3.34|3.83|       1.23|\n",
            "|1998|     1.63|  1.38|  3.87|   3.34| 3.84| 2.82|  1.49|       3.04|4.06|       1.06|\n",
            "|1999|     1.72|  1.52|  3.85|   3.42| 3.87| 3.27|  1.79|        3.8|4.29|       1.17|\n",
            "|2000|     1.94|  1.86|   3.8|   3.45| 3.77| 3.65|  2.01|       4.18|4.58|       1.51|\n",
            "|2001|     1.71|  1.72|  3.51|    3.4| 3.57| 3.27|   2.2|       3.76|4.13|       1.46|\n",
            "|2002|     1.76|  1.69|  3.62|   3.67| 3.74| 3.15|  2.24|       3.84|4.16|       1.36|\n",
            "|2003|     2.19|  1.99|  4.35|   4.59| 4.53| 3.47|  2.04|       4.11| 4.7|       1.59|\n",
            "|2004|     2.72|  2.37|  4.99|   5.24| 5.29| 3.93|  2.03|       4.51|5.56|       1.88|\n",
            "|2005|     3.23|  2.89|  5.46|   5.66| 5.74| 4.28|  2.22|       5.28|5.97|        2.3|\n",
            "|2006|     3.54|  3.26|  5.88|   6.03|  6.1| 4.47|  2.31|       5.92|6.36|       2.59|\n",
            "|2007|     3.85|  3.59|   6.6|   6.88| 6.73| 4.49|   2.4|       6.21|7.13|        2.8|\n",
            "|2008|     4.45|  4.08|  7.51|   7.75| 7.63| 5.74|  2.45|       5.83|7.42|       3.27|\n",
            "+----+---------+------+------+-------+-----+-----+------+-----------+----+-----------+\n",
            "\n"
          ]
        }
      ]
    },
    {
      "cell_type": "markdown",
      "source": [
        "\n",
        "# Pyspark Handling Missing Values\n",
        "* Dropping Columns\n",
        "* Dropping Rows\n",
        "* Various Parameter In Dropping functionalities\n",
        "* Handling Missing values by Mean, Median And Mode"
      ],
      "metadata": {
        "id": "zctgb5yU2a2c"
      }
    },
    {
      "cell_type": "code",
      "source": [
        "df_pyspark=spark.read.csv('/content/gas_prices_missing_values.csv', header=True,inferSchema=True)"
      ],
      "metadata": {
        "id": "FGKL2HeM2YWu"
      },
      "execution_count": null,
      "outputs": []
    },
    {
      "cell_type": "code",
      "source": [
        "df_pyspark.show()"
      ],
      "metadata": {
        "colab": {
          "base_uri": "https://localhost:8080/"
        },
        "id": "dqfOZWt14Ezf",
        "outputId": "f93b168f-5420-4bb3-cddd-fc8a59dd134e"
      },
      "execution_count": null,
      "outputs": [
        {
          "output_type": "stream",
          "name": "stdout",
          "text": [
            "+----+---------+------+------+-------+-----+-----+------+-----------+----+----+\n",
            "|Year|Australia|Canada|France|Germany|Italy|Japan|Mexico|South Korea|  UK| USA|\n",
            "+----+---------+------+------+-------+-----+-----+------+-----------+----+----+\n",
            "|1990|     NULL|  1.87|  3.63|   2.65| 4.59| 3.16|  NULL|       2.05|2.82|1.16|\n",
            "|1991|     1.96|  1.92|  3.45|    2.9|  4.5| 3.46|   1.3|       2.49|3.01|1.14|\n",
            "|1992|     1.89|  1.73|  3.56|   3.27| 4.53| 3.58|   1.5|       2.65|3.06|1.13|\n",
            "|1993|     1.73|  1.57|  3.41|   3.07| 3.68| 4.16|  1.56|       2.88|2.84|NULL|\n",
            "|1994|     1.84|  1.45|  3.59|   3.52|  3.7| 4.36|  1.48|       2.87|2.99|NULL|\n",
            "|1995|     1.95|  1.53|  4.26|   3.96| NULL| 4.43|  1.11|       2.94|3.21|1.15|\n",
            "|1996|     2.12|  1.61|  4.41|   3.94| 4.39| 3.64|  1.25|       3.18|3.34|1.23|\n",
            "|1997|     2.05|  1.62|  NULL|   3.53| 4.07| 3.26|  1.47|       3.34|3.83|1.23|\n",
            "|1998|     1.63|  1.38|  3.87|   3.34| 3.84| 2.82|  1.49|       3.04|4.06|1.06|\n",
            "|1999|     1.72|  1.52|  3.85|   3.42| 3.87| NULL|  1.79|        3.8|4.29|1.17|\n",
            "|2000|     1.94|  1.86|   3.8|   3.45| 3.77| 3.65|  2.01|       4.18|4.58|1.51|\n",
            "|2001|     1.71|  1.72|  3.51|    3.4| 3.57| 3.27|   2.2|       3.76|4.13|1.46|\n",
            "|2002|     1.76|  1.69|  3.62|   3.67| 3.74| 3.15|  2.24|       3.84|4.16|NULL|\n",
            "|2003|     2.19|  1.99|  4.35|   4.59| 4.53| 3.47|  2.04|       4.11| 4.7|1.59|\n",
            "|2004|     2.72|  2.37|  4.99|   5.24| 5.29| 3.93|  2.03|       4.51|5.56|1.88|\n",
            "|2005|     3.23|  2.89|  5.46|   5.66| 5.74| 4.28|  2.22|       5.28|5.97| 2.3|\n",
            "|2006|     3.54|  3.26|  5.88|   6.03|  6.1| 4.47|  2.31|       5.92|6.36|2.59|\n",
            "|2007|     3.85|  3.59|   6.6|   6.88| 6.73| 4.49|   2.4|       6.21|7.13| 2.8|\n",
            "|2008|     4.45|  4.08|  7.51|   7.75| 7.63| 5.74|  2.45|       5.83|7.42|3.27|\n",
            "+----+---------+------+------+-------+-----+-----+------+-----------+----+----+\n",
            "\n"
          ]
        }
      ]
    },
    {
      "cell_type": "code",
      "source": [
        "## drop the columns\n",
        "df_pyspark.drop('USA').show()"
      ],
      "metadata": {
        "colab": {
          "base_uri": "https://localhost:8080/"
        },
        "id": "y3x9UaYG4JZi",
        "outputId": "5a70dc38-c2da-4d35-9948-f9567091e07b"
      },
      "execution_count": null,
      "outputs": [
        {
          "output_type": "stream",
          "name": "stdout",
          "text": [
            "+----+---------+------+------+-------+-----+-----+------+-----------+----+\n",
            "|Year|Australia|Canada|France|Germany|Italy|Japan|Mexico|South Korea|  UK|\n",
            "+----+---------+------+------+-------+-----+-----+------+-----------+----+\n",
            "|1990|     NULL|  1.87|  3.63|   2.65| 4.59| 3.16|  NULL|       2.05|2.82|\n",
            "|1991|     1.96|  1.92|  3.45|    2.9|  4.5| 3.46|   1.3|       2.49|3.01|\n",
            "|1992|     1.89|  1.73|  3.56|   3.27| 4.53| 3.58|   1.5|       2.65|3.06|\n",
            "|1993|     1.73|  1.57|  3.41|   3.07| 3.68| 4.16|  1.56|       2.88|2.84|\n",
            "|1994|     1.84|  1.45|  3.59|   3.52|  3.7| 4.36|  1.48|       2.87|2.99|\n",
            "|1995|     1.95|  1.53|  4.26|   3.96| NULL| 4.43|  1.11|       2.94|3.21|\n",
            "|1996|     2.12|  1.61|  4.41|   3.94| 4.39| 3.64|  1.25|       3.18|3.34|\n",
            "|1997|     2.05|  1.62|  NULL|   3.53| 4.07| 3.26|  1.47|       3.34|3.83|\n",
            "|1998|     1.63|  1.38|  3.87|   3.34| 3.84| 2.82|  1.49|       3.04|4.06|\n",
            "|1999|     1.72|  1.52|  3.85|   3.42| 3.87| NULL|  1.79|        3.8|4.29|\n",
            "|2000|     1.94|  1.86|   3.8|   3.45| 3.77| 3.65|  2.01|       4.18|4.58|\n",
            "|2001|     1.71|  1.72|  3.51|    3.4| 3.57| 3.27|   2.2|       3.76|4.13|\n",
            "|2002|     1.76|  1.69|  3.62|   3.67| 3.74| 3.15|  2.24|       3.84|4.16|\n",
            "|2003|     2.19|  1.99|  4.35|   4.59| 4.53| 3.47|  2.04|       4.11| 4.7|\n",
            "|2004|     2.72|  2.37|  4.99|   5.24| 5.29| 3.93|  2.03|       4.51|5.56|\n",
            "|2005|     3.23|  2.89|  5.46|   5.66| 5.74| 4.28|  2.22|       5.28|5.97|\n",
            "|2006|     3.54|  3.26|  5.88|   6.03|  6.1| 4.47|  2.31|       5.92|6.36|\n",
            "|2007|     3.85|  3.59|   6.6|   6.88| 6.73| 4.49|   2.4|       6.21|7.13|\n",
            "|2008|     4.45|  4.08|  7.51|   7.75| 7.63| 5.74|  2.45|       5.83|7.42|\n",
            "+----+---------+------+------+-------+-----+-----+------+-----------+----+\n",
            "\n"
          ]
        }
      ]
    },
    {
      "cell_type": "code",
      "source": [
        "## drop the NA rows\n",
        "df_pyspark.na.drop().show()\n",
        "## drop the NA how=(any, all)?\n",
        "##threshold === ATLEAST 3 NON NULL values should be present\n",
        "df_pyspark.na.drop(how=\"any\",thresh=3).show()"
      ],
      "metadata": {
        "colab": {
          "base_uri": "https://localhost:8080/"
        },
        "id": "CSezL8z14ngy",
        "outputId": "74e0a94e-9341-4d52-c1bd-e8ca4893cfff"
      },
      "execution_count": null,
      "outputs": [
        {
          "output_type": "stream",
          "name": "stdout",
          "text": [
            "+----+---------+------+------+-------+-----+-----+------+-----------+----+----+\n",
            "|Year|Australia|Canada|France|Germany|Italy|Japan|Mexico|South Korea|  UK| USA|\n",
            "+----+---------+------+------+-------+-----+-----+------+-----------+----+----+\n",
            "|1991|     1.96|  1.92|  3.45|    2.9|  4.5| 3.46|   1.3|       2.49|3.01|1.14|\n",
            "|1992|     1.89|  1.73|  3.56|   3.27| 4.53| 3.58|   1.5|       2.65|3.06|1.13|\n",
            "|1996|     2.12|  1.61|  4.41|   3.94| 4.39| 3.64|  1.25|       3.18|3.34|1.23|\n",
            "|1998|     1.63|  1.38|  3.87|   3.34| 3.84| 2.82|  1.49|       3.04|4.06|1.06|\n",
            "|2000|     1.94|  1.86|   3.8|   3.45| 3.77| 3.65|  2.01|       4.18|4.58|1.51|\n",
            "|2001|     1.71|  1.72|  3.51|    3.4| 3.57| 3.27|   2.2|       3.76|4.13|1.46|\n",
            "|2003|     2.19|  1.99|  4.35|   4.59| 4.53| 3.47|  2.04|       4.11| 4.7|1.59|\n",
            "|2004|     2.72|  2.37|  4.99|   5.24| 5.29| 3.93|  2.03|       4.51|5.56|1.88|\n",
            "|2005|     3.23|  2.89|  5.46|   5.66| 5.74| 4.28|  2.22|       5.28|5.97| 2.3|\n",
            "|2006|     3.54|  3.26|  5.88|   6.03|  6.1| 4.47|  2.31|       5.92|6.36|2.59|\n",
            "|2007|     3.85|  3.59|   6.6|   6.88| 6.73| 4.49|   2.4|       6.21|7.13| 2.8|\n",
            "|2008|     4.45|  4.08|  7.51|   7.75| 7.63| 5.74|  2.45|       5.83|7.42|3.27|\n",
            "+----+---------+------+------+-------+-----+-----+------+-----------+----+----+\n",
            "\n",
            "+----+---------+------+------+-------+-----+-----+------+-----------+----+----+\n",
            "|Year|Australia|Canada|France|Germany|Italy|Japan|Mexico|South Korea|  UK| USA|\n",
            "+----+---------+------+------+-------+-----+-----+------+-----------+----+----+\n",
            "|1990|     NULL|  1.87|  3.63|   2.65| 4.59| 3.16|  NULL|       2.05|2.82|1.16|\n",
            "|1991|     1.96|  1.92|  3.45|    2.9|  4.5| 3.46|   1.3|       2.49|3.01|1.14|\n",
            "|1992|     1.89|  1.73|  3.56|   3.27| 4.53| 3.58|   1.5|       2.65|3.06|1.13|\n",
            "|1993|     1.73|  1.57|  3.41|   3.07| 3.68| 4.16|  1.56|       2.88|2.84|NULL|\n",
            "|1994|     1.84|  1.45|  3.59|   3.52|  3.7| 4.36|  1.48|       2.87|2.99|NULL|\n",
            "|1995|     1.95|  1.53|  4.26|   3.96| NULL| 4.43|  1.11|       2.94|3.21|1.15|\n",
            "|1996|     2.12|  1.61|  4.41|   3.94| 4.39| 3.64|  1.25|       3.18|3.34|1.23|\n",
            "|1997|     2.05|  1.62|  NULL|   3.53| 4.07| 3.26|  1.47|       3.34|3.83|1.23|\n",
            "|1998|     1.63|  1.38|  3.87|   3.34| 3.84| 2.82|  1.49|       3.04|4.06|1.06|\n",
            "|1999|     1.72|  1.52|  3.85|   3.42| 3.87| NULL|  1.79|        3.8|4.29|1.17|\n",
            "|2000|     1.94|  1.86|   3.8|   3.45| 3.77| 3.65|  2.01|       4.18|4.58|1.51|\n",
            "|2001|     1.71|  1.72|  3.51|    3.4| 3.57| 3.27|   2.2|       3.76|4.13|1.46|\n",
            "|2002|     1.76|  1.69|  3.62|   3.67| 3.74| 3.15|  2.24|       3.84|4.16|NULL|\n",
            "|2003|     2.19|  1.99|  4.35|   4.59| 4.53| 3.47|  2.04|       4.11| 4.7|1.59|\n",
            "|2004|     2.72|  2.37|  4.99|   5.24| 5.29| 3.93|  2.03|       4.51|5.56|1.88|\n",
            "|2005|     3.23|  2.89|  5.46|   5.66| 5.74| 4.28|  2.22|       5.28|5.97| 2.3|\n",
            "|2006|     3.54|  3.26|  5.88|   6.03|  6.1| 4.47|  2.31|       5.92|6.36|2.59|\n",
            "|2007|     3.85|  3.59|   6.6|   6.88| 6.73| 4.49|   2.4|       6.21|7.13| 2.8|\n",
            "|2008|     4.45|  4.08|  7.51|   7.75| 7.63| 5.74|  2.45|       5.83|7.42|3.27|\n",
            "+----+---------+------+------+-------+-----+-----+------+-----------+----+----+\n",
            "\n"
          ]
        }
      ]
    },
    {
      "cell_type": "code",
      "source": [
        "## Subset\n",
        "df_pyspark.na.drop(how=\"any\",subset=['USA']).show()"
      ],
      "metadata": {
        "colab": {
          "base_uri": "https://localhost:8080/"
        },
        "id": "B__WG_7v4yk8",
        "outputId": "6b4a4510-51e4-46fa-f6ee-2d7ef827a419"
      },
      "execution_count": null,
      "outputs": [
        {
          "output_type": "stream",
          "name": "stdout",
          "text": [
            "+----+---------+------+------+-------+-----+-----+------+-----------+----+----+\n",
            "|Year|Australia|Canada|France|Germany|Italy|Japan|Mexico|South Korea|  UK| USA|\n",
            "+----+---------+------+------+-------+-----+-----+------+-----------+----+----+\n",
            "|1990|     NULL|  1.87|  3.63|   2.65| 4.59| 3.16|  NULL|       2.05|2.82|1.16|\n",
            "|1991|     1.96|  1.92|  3.45|    2.9|  4.5| 3.46|   1.3|       2.49|3.01|1.14|\n",
            "|1992|     1.89|  1.73|  3.56|   3.27| 4.53| 3.58|   1.5|       2.65|3.06|1.13|\n",
            "|1995|     1.95|  1.53|  4.26|   3.96| NULL| 4.43|  1.11|       2.94|3.21|1.15|\n",
            "|1996|     2.12|  1.61|  4.41|   3.94| 4.39| 3.64|  1.25|       3.18|3.34|1.23|\n",
            "|1997|     2.05|  1.62|  NULL|   3.53| 4.07| 3.26|  1.47|       3.34|3.83|1.23|\n",
            "|1998|     1.63|  1.38|  3.87|   3.34| 3.84| 2.82|  1.49|       3.04|4.06|1.06|\n",
            "|1999|     1.72|  1.52|  3.85|   3.42| 3.87| NULL|  1.79|        3.8|4.29|1.17|\n",
            "|2000|     1.94|  1.86|   3.8|   3.45| 3.77| 3.65|  2.01|       4.18|4.58|1.51|\n",
            "|2001|     1.71|  1.72|  3.51|    3.4| 3.57| 3.27|   2.2|       3.76|4.13|1.46|\n",
            "|2003|     2.19|  1.99|  4.35|   4.59| 4.53| 3.47|  2.04|       4.11| 4.7|1.59|\n",
            "|2004|     2.72|  2.37|  4.99|   5.24| 5.29| 3.93|  2.03|       4.51|5.56|1.88|\n",
            "|2005|     3.23|  2.89|  5.46|   5.66| 5.74| 4.28|  2.22|       5.28|5.97| 2.3|\n",
            "|2006|     3.54|  3.26|  5.88|   6.03|  6.1| 4.47|  2.31|       5.92|6.36|2.59|\n",
            "|2007|     3.85|  3.59|   6.6|   6.88| 6.73| 4.49|   2.4|       6.21|7.13| 2.8|\n",
            "|2008|     4.45|  4.08|  7.51|   7.75| 7.63| 5.74|  2.45|       5.83|7.42|3.27|\n",
            "+----+---------+------+------+-------+-----+-----+------+-----------+----+----+\n",
            "\n"
          ]
        }
      ]
    },
    {
      "cell_type": "code",
      "source": [
        "## Filling the missing value\n",
        "df_pyspark.na.fill(69.0).show()\n",
        "#However, this will only apply to columns with same types."
      ],
      "metadata": {
        "colab": {
          "base_uri": "https://localhost:8080/"
        },
        "id": "HY8LKXfZ6hlA",
        "outputId": "40fbfb3c-536c-4bdb-8918-1aabe7488ac2"
      },
      "execution_count": null,
      "outputs": [
        {
          "output_type": "stream",
          "name": "stdout",
          "text": [
            "+----+---------+------+------+-------+-----+-----+------+-----------+----+----+\n",
            "|Year|Australia|Canada|France|Germany|Italy|Japan|Mexico|South Korea|  UK| USA|\n",
            "+----+---------+------+------+-------+-----+-----+------+-----------+----+----+\n",
            "|1990|     69.0|  1.87|  3.63|   2.65| 4.59| 3.16|  69.0|       2.05|2.82|1.16|\n",
            "|1991|     1.96|  1.92|  3.45|    2.9|  4.5| 3.46|   1.3|       2.49|3.01|1.14|\n",
            "|1992|     1.89|  1.73|  3.56|   3.27| 4.53| 3.58|   1.5|       2.65|3.06|1.13|\n",
            "|1993|     1.73|  1.57|  3.41|   3.07| 3.68| 4.16|  1.56|       2.88|2.84|69.0|\n",
            "|1994|     1.84|  1.45|  3.59|   3.52|  3.7| 4.36|  1.48|       2.87|2.99|69.0|\n",
            "|1995|     1.95|  1.53|  4.26|   3.96| 69.0| 4.43|  1.11|       2.94|3.21|1.15|\n",
            "|1996|     2.12|  1.61|  4.41|   3.94| 4.39| 3.64|  1.25|       3.18|3.34|1.23|\n",
            "|1997|     2.05|  1.62|  69.0|   3.53| 4.07| 3.26|  1.47|       3.34|3.83|1.23|\n",
            "|1998|     1.63|  1.38|  3.87|   3.34| 3.84| 2.82|  1.49|       3.04|4.06|1.06|\n",
            "|1999|     1.72|  1.52|  3.85|   3.42| 3.87| 69.0|  1.79|        3.8|4.29|1.17|\n",
            "|2000|     1.94|  1.86|   3.8|   3.45| 3.77| 3.65|  2.01|       4.18|4.58|1.51|\n",
            "|2001|     1.71|  1.72|  3.51|    3.4| 3.57| 3.27|   2.2|       3.76|4.13|1.46|\n",
            "|2002|     1.76|  1.69|  3.62|   3.67| 3.74| 3.15|  2.24|       3.84|4.16|69.0|\n",
            "|2003|     2.19|  1.99|  4.35|   4.59| 4.53| 3.47|  2.04|       4.11| 4.7|1.59|\n",
            "|2004|     2.72|  2.37|  4.99|   5.24| 5.29| 3.93|  2.03|       4.51|5.56|1.88|\n",
            "|2005|     3.23|  2.89|  5.46|   5.66| 5.74| 4.28|  2.22|       5.28|5.97| 2.3|\n",
            "|2006|     3.54|  3.26|  5.88|   6.03|  6.1| 4.47|  2.31|       5.92|6.36|2.59|\n",
            "|2007|     3.85|  3.59|   6.6|   6.88| 6.73| 4.49|   2.4|       6.21|7.13| 2.8|\n",
            "|2008|     4.45|  4.08|  7.51|   7.75| 7.63| 5.74|  2.45|       5.83|7.42|3.27|\n",
            "+----+---------+------+------+-------+-----+-----+------+-----------+----+----+\n",
            "\n"
          ]
        }
      ]
    },
    {
      "cell_type": "code",
      "source": [
        "from pyspark.ml.feature import Imputer\n",
        "\n",
        "imputer = Imputer(\n",
        "    inputCols=['USA', 'UK'],\n",
        "    outputCols=[\"{}_imputed\".format(c) for c in ['USA', 'UK']]\n",
        ").setStrategy(\"mean\")"
      ],
      "metadata": {
        "id": "1NsQ2YUA7zch"
      },
      "execution_count": null,
      "outputs": []
    },
    {
      "cell_type": "code",
      "source": [
        "imputer.fit(df_pyspark).transform(df_pyspark).show()"
      ],
      "metadata": {
        "colab": {
          "base_uri": "https://localhost:8080/"
        },
        "id": "wmr58ofp8S1M",
        "outputId": "2bfabaf4-de1a-4f8c-92a9-a5bb0b940935"
      },
      "execution_count": null,
      "outputs": [
        {
          "output_type": "stream",
          "name": "stdout",
          "text": [
            "+----+---------+------+------+-------+-----+-----+------+-----------+----+----+-----------+----------+\n",
            "|Year|Australia|Canada|France|Germany|Italy|Japan|Mexico|South Korea|  UK| USA|USA_imputed|UK_imputed|\n",
            "+----+---------+------+------+-------+-----+-----+------+-----------+----+----+-----------+----------+\n",
            "|1990|     NULL|  1.87|  3.63|   2.65| 4.59| 3.16|  NULL|       2.05|2.82|1.16|       1.16|      2.82|\n",
            "|1991|     1.96|  1.92|  3.45|    2.9|  4.5| 3.46|   1.3|       2.49|3.01|1.14|       1.14|      3.01|\n",
            "|1992|     1.89|  1.73|  3.56|   3.27| 4.53| 3.58|   1.5|       2.65|3.06|1.13|       1.13|      3.06|\n",
            "|1993|     1.73|  1.57|  3.41|   3.07| 3.68| 4.16|  1.56|       2.88|2.84|NULL|   1.666875|      2.84|\n",
            "|1994|     1.84|  1.45|  3.59|   3.52|  3.7| 4.36|  1.48|       2.87|2.99|NULL|   1.666875|      2.99|\n",
            "|1995|     1.95|  1.53|  4.26|   3.96| NULL| 4.43|  1.11|       2.94|3.21|1.15|       1.15|      3.21|\n",
            "|1996|     2.12|  1.61|  4.41|   3.94| 4.39| 3.64|  1.25|       3.18|3.34|1.23|       1.23|      3.34|\n",
            "|1997|     2.05|  1.62|  NULL|   3.53| 4.07| 3.26|  1.47|       3.34|3.83|1.23|       1.23|      3.83|\n",
            "|1998|     1.63|  1.38|  3.87|   3.34| 3.84| 2.82|  1.49|       3.04|4.06|1.06|       1.06|      4.06|\n",
            "|1999|     1.72|  1.52|  3.85|   3.42| 3.87| NULL|  1.79|        3.8|4.29|1.17|       1.17|      4.29|\n",
            "|2000|     1.94|  1.86|   3.8|   3.45| 3.77| 3.65|  2.01|       4.18|4.58|1.51|       1.51|      4.58|\n",
            "|2001|     1.71|  1.72|  3.51|    3.4| 3.57| 3.27|   2.2|       3.76|4.13|1.46|       1.46|      4.13|\n",
            "|2002|     1.76|  1.69|  3.62|   3.67| 3.74| 3.15|  2.24|       3.84|4.16|NULL|   1.666875|      4.16|\n",
            "|2003|     2.19|  1.99|  4.35|   4.59| 4.53| 3.47|  2.04|       4.11| 4.7|1.59|       1.59|       4.7|\n",
            "|2004|     2.72|  2.37|  4.99|   5.24| 5.29| 3.93|  2.03|       4.51|5.56|1.88|       1.88|      5.56|\n",
            "|2005|     3.23|  2.89|  5.46|   5.66| 5.74| 4.28|  2.22|       5.28|5.97| 2.3|        2.3|      5.97|\n",
            "|2006|     3.54|  3.26|  5.88|   6.03|  6.1| 4.47|  2.31|       5.92|6.36|2.59|       2.59|      6.36|\n",
            "|2007|     3.85|  3.59|   6.6|   6.88| 6.73| 4.49|   2.4|       6.21|7.13| 2.8|        2.8|      7.13|\n",
            "|2008|     4.45|  4.08|  7.51|   7.75| 7.63| 5.74|  2.45|       5.83|7.42|3.27|       3.27|      7.42|\n",
            "+----+---------+------+------+-------+-----+-----+------+-----------+----+----+-----------+----------+\n",
            "\n"
          ]
        }
      ]
    },
    {
      "cell_type": "markdown",
      "source": [
        "# Pyspark Dataframes\n",
        "* Filter Operation\n",
        "* &,|,==\n",
        "* ~"
      ],
      "metadata": {
        "id": "nk0aez218jMm"
      }
    },
    {
      "cell_type": "code",
      "source": [
        "from pyspark.sql import SparkSession\n",
        "spark=SparkSession.builder.appName(\"Filter\").getOrCreate()"
      ],
      "metadata": {
        "id": "eq6EnfMBfIDh"
      },
      "execution_count": null,
      "outputs": []
    },
    {
      "cell_type": "code",
      "source": [
        "df_pyspark=spark.read.csv('/content/gas_prices.csv', header=True, inferSchema=True)\n",
        "df_pyspark.show()"
      ],
      "metadata": {
        "colab": {
          "base_uri": "https://localhost:8080/"
        },
        "id": "PrLr8t4ifeJq",
        "outputId": "f63b9963-e223-45f0-b782-b733ba01fcb7"
      },
      "execution_count": null,
      "outputs": [
        {
          "output_type": "stream",
          "name": "stdout",
          "text": [
            "+----+---------+------+------+-------+-----+-----+------+-----------+----+----+\n",
            "|Year|Australia|Canada|France|Germany|Italy|Japan|Mexico|South Korea|  UK| USA|\n",
            "+----+---------+------+------+-------+-----+-----+------+-----------+----+----+\n",
            "|1990|     NULL|  1.87|  3.63|   2.65| 4.59| 3.16|   1.0|       2.05|2.82|1.16|\n",
            "|1991|     1.96|  1.92|  3.45|    2.9|  4.5| 3.46|   1.3|       2.49|3.01|1.14|\n",
            "|1992|     1.89|  1.73|  3.56|   3.27| 4.53| 3.58|   1.5|       2.65|3.06|1.13|\n",
            "|1993|     1.73|  1.57|  3.41|   3.07| 3.68| 4.16|  1.56|       2.88|2.84|1.11|\n",
            "|1994|     1.84|  1.45|  3.59|   3.52|  3.7| 4.36|  1.48|       2.87|2.99|1.11|\n",
            "|1995|     1.95|  1.53|  4.26|   3.96|  4.0| 4.43|  1.11|       2.94|3.21|1.15|\n",
            "|1996|     2.12|  1.61|  4.41|   3.94| 4.39| 3.64|  1.25|       3.18|3.34|1.23|\n",
            "|1997|     2.05|  1.62|   4.0|   3.53| 4.07| 3.26|  1.47|       3.34|3.83|1.23|\n",
            "|1998|     1.63|  1.38|  3.87|   3.34| 3.84| 2.82|  1.49|       3.04|4.06|1.06|\n",
            "|1999|     1.72|  1.52|  3.85|   3.42| 3.87| 3.27|  1.79|        3.8|4.29|1.17|\n",
            "|2000|     1.94|  1.86|   3.8|   3.45| 3.77| 3.65|  2.01|       4.18|4.58|1.51|\n",
            "|2001|     1.71|  1.72|  3.51|    3.4| 3.57| 3.27|   2.2|       3.76|4.13|1.46|\n",
            "|2002|     1.76|  1.69|  3.62|   3.67| 3.74| 3.15|  2.24|       3.84|4.16|1.36|\n",
            "|2003|     2.19|  1.99|  4.35|   4.59| 4.53| 3.47|  2.04|       4.11| 4.7|1.59|\n",
            "|2004|     2.72|  2.37|  4.99|   5.24| 5.29| 3.93|  2.03|       4.51|5.56|1.88|\n",
            "|2005|     3.23|  2.89|  5.46|   5.66| 5.74| 4.28|  2.22|       5.28|5.97| 2.3|\n",
            "|2006|     3.54|  3.26|  5.88|   6.03|  6.1| 4.47|  2.31|       5.92|6.36|2.59|\n",
            "|2007|     3.85|  3.59|   6.6|   6.88| 6.73| 4.49|   2.4|       6.21|7.13| 2.8|\n",
            "|2008|     4.45|  4.08|  7.51|   7.75| 7.63| 5.74|  2.45|       5.83|7.42|3.27|\n",
            "+----+---------+------+------+-------+-----+-----+------+-----------+----+----+\n",
            "\n"
          ]
        }
      ]
    },
    {
      "cell_type": "code",
      "source": [
        "### Filter Operations\n",
        "\n",
        "df_pyspark.filter(df_pyspark[\"Japan\"]>=3).select(['Year','Japan']).show()\n",
        "##Alternate\n",
        "df_pyspark.select(['Year','Japan']).filter(\"Japan>=3\").show()"
      ],
      "metadata": {
        "colab": {
          "base_uri": "https://localhost:8080/"
        },
        "id": "lMq2ncc28i2v",
        "outputId": "f9e2c62a-2a1d-4115-8e4f-6b9bd2000b4c"
      },
      "execution_count": null,
      "outputs": [
        {
          "output_type": "stream",
          "name": "stdout",
          "text": [
            "+----+-----+\n",
            "|Year|Japan|\n",
            "+----+-----+\n",
            "|1990| 3.16|\n",
            "|1991| 3.46|\n",
            "|1992| 3.58|\n",
            "|1993| 4.16|\n",
            "|1994| 4.36|\n",
            "|1995| 4.43|\n",
            "|1996| 3.64|\n",
            "|1997| 3.26|\n",
            "|1999| 3.27|\n",
            "|2000| 3.65|\n",
            "|2001| 3.27|\n",
            "|2002| 3.15|\n",
            "|2003| 3.47|\n",
            "|2004| 3.93|\n",
            "|2005| 4.28|\n",
            "|2006| 4.47|\n",
            "|2007| 4.49|\n",
            "|2008| 5.74|\n",
            "+----+-----+\n",
            "\n",
            "+----+-----+\n",
            "|Year|Japan|\n",
            "+----+-----+\n",
            "|1990| 3.16|\n",
            "|1991| 3.46|\n",
            "|1992| 3.58|\n",
            "|1993| 4.16|\n",
            "|1994| 4.36|\n",
            "|1995| 4.43|\n",
            "|1996| 3.64|\n",
            "|1997| 3.26|\n",
            "|1999| 3.27|\n",
            "|2000| 3.65|\n",
            "|2001| 3.27|\n",
            "|2002| 3.15|\n",
            "|2003| 3.47|\n",
            "|2004| 3.93|\n",
            "|2005| 4.28|\n",
            "|2006| 4.47|\n",
            "|2007| 4.49|\n",
            "|2008| 5.74|\n",
            "+----+-----+\n",
            "\n"
          ]
        }
      ]
    },
    {
      "cell_type": "code",
      "source": [
        "df_pyspark.filter((df_pyspark[\"Japan\"]>=3) & (df_pyspark[\"Japan\"]<4) ).select(['Year','Japan']).show()"
      ],
      "metadata": {
        "colab": {
          "base_uri": "https://localhost:8080/"
        },
        "id": "ygTFZMBVg4J8",
        "outputId": "8392609f-f140-443a-8970-35055c8b45db"
      },
      "execution_count": null,
      "outputs": [
        {
          "output_type": "stream",
          "name": "stdout",
          "text": [
            "+----+-----+\n",
            "|Year|Japan|\n",
            "+----+-----+\n",
            "|1990| 3.16|\n",
            "|1991| 3.46|\n",
            "|1992| 3.58|\n",
            "|1996| 3.64|\n",
            "|1997| 3.26|\n",
            "|1999| 3.27|\n",
            "|2000| 3.65|\n",
            "|2001| 3.27|\n",
            "|2002| 3.15|\n",
            "|2003| 3.47|\n",
            "|2004| 3.93|\n",
            "+----+-----+\n",
            "\n"
          ]
        }
      ]
    },
    {
      "cell_type": "markdown",
      "source": [
        "## Pyspark GroupBy And Aggregate Functions"
      ],
      "metadata": {
        "id": "ydd1d7Bbh3qk"
      }
    },
    {
      "cell_type": "code",
      "source": [
        "from pyspark.sql import SparkSession\n",
        "spark=SparkSession.builder.appName(\"Filter\").getOrCreate()"
      ],
      "metadata": {
        "id": "LaUOcdYMhegh"
      },
      "execution_count": null,
      "outputs": []
    },
    {
      "cell_type": "code",
      "source": [
        "df_pyspark=spark.read.csv('/content/ComputerSales.csv', header=True, inferSchema=True)\n",
        "df_pyspark.show()"
      ],
      "metadata": {
        "colab": {
          "base_uri": "https://localhost:8080/"
        },
        "id": "gFKj8ZJfiSZA",
        "outputId": "b777a13e-b5d7-419f-d28f-981489861928"
      },
      "execution_count": null,
      "outputs": [
        {
          "output_type": "stream",
          "name": "stdout",
          "text": [
            "+-------+---------------+---+---+-----+----------+------------+----------+------+-------+--------+----+\n",
            "|Sale ID|        Contact|Sex|Age|State|Product ID|Product Type|Sale Price|Profit|   Lead|   Month|Year|\n",
            "+-------+---------------+---+---+-----+----------+------------+----------+------+-------+--------+----+\n",
            "|      1|    Paul Thomas|  M| 43|   OH| M01-F0024|     Desktop|    479.99|143.39|Website| January|2018|\n",
            "|      2|    Margo Simms|  F| 37|   WV| GT13-0024|     Desktop|   1249.99|230.89|Flyer 4| January|2018|\n",
            "|      3|      Sam Stine|  M| 26|   PA|     I3670|     Desktop|    649.99|118.64|Website|February|2018|\n",
            "|      4|     Moe Eggert|  M| 35|   PA|     I3593|      Laptop|    399.99| 72.09|Website|   March|2018|\n",
            "|      5|    Jessica Elk|  F| 55|   PA|    15M-ED|      Laptop|    699.99| 98.09|Flyer 4|   March|2018|\n",
            "|      6|Sally Struthers|  F| 45|   PA| GT13-0024|     Desktop|   1249.99|230.89|Flyer 2|   April|2018|\n",
            "|      7| Michelle Samms|  F| 46|   OH|   GA401IV|      Laptop|   1349.99|180.34|  Email|     May|2018|\n",
            "|      8|   Mick Roberts|  M| 23|   OH|   MY2J2LL|      Tablet|    999.99|146.69|Website|    July|2018|\n",
            "|      9|    Ed Klondike|  M| 52|   OH|    81TC00|      Laptop|    649.99|122.34|  Email|    July|2018|\n",
            "|     10|     Phil Jones|  M| 56|   WV| M01-F0024|     Desktop|    479.99|143.39|Flyer 2|  August|2018|\n",
            "|     11|     Rick James|  M| 49|   PA|   GA401IV|      Laptop|   1349.99|180.34|Flyer 3|November|2018|\n",
            "|     12|       Sue Etna|  F| 54|   OH| GT13-0024|     Desktop|   1249.99|230.89|Flyer 2|November|2018|\n",
            "|     13|     Jason Case|  M| 57|   PA|    81TC00|      Laptop|    649.99|122.34|  Email|November|2018|\n",
            "|     14|   Doug Johnson|  M| 51|   PA|     I3670|     Desktop|    649.99|118.64|Website|December|2018|\n",
            "|     15|     Andy Sands|  M| 56|   OH|   MY2J2LL|      Tablet|    999.99|146.69|Flyer 1|December|2018|\n",
            "|     16|    Kim Collins|  F| 49|   PA|     I3593|      Laptop|    399.99| 72.09|Flyer 2| January|2019|\n",
            "|     17|   Edna Sanders|  F| 46|   OH|    15M-ED|      Laptop|    699.99| 98.09|  Email|February|2019|\n",
            "|     18| Michelle Samms|  F| 46|   NY|   MY2J2LL|      Tablet|    999.99|146.69|Website|   March|2019|\n",
            "|     19|   Mick Roberts|  M| 23|   PA|     I3593|      Laptop|    399.99| 72.09|Flyer 4|   March|2019|\n",
            "|     20|Sally Struthers|  F| 45|   NY|    81TC00|      Laptop|    649.99|122.34|Website|   April|2019|\n",
            "+-------+---------------+---+---+-----+----------+------------+----------+------+-------+--------+----+\n",
            "only showing top 20 rows\n",
            "\n"
          ]
        }
      ]
    },
    {
      "cell_type": "code",
      "source": [
        "## Groupby\n",
        "df_pyspark['Product Type','Sale Price','Profit'].groupBy('Product Type').sum().show()"
      ],
      "metadata": {
        "colab": {
          "base_uri": "https://localhost:8080/"
        },
        "id": "7hqj-UiDiUYn",
        "outputId": "883d7279-f039-4383-ae56-bfb55885285c"
      },
      "execution_count": null,
      "outputs": [
        {
          "output_type": "stream",
          "name": "stdout",
          "text": [
            "+------------+------------------+------------------+\n",
            "|Product Type|   sum(Sale Price)|       sum(Profit)|\n",
            "+------------+------------------+------------------+\n",
            "|      Laptop|56259.449999999975| 8644.450000000004|\n",
            "|      Tablet|11649.869999999999|1836.9700000000005|\n",
            "|     Desktop| 28859.66000000002| 5537.760000000003|\n",
            "+------------+------------------+------------------+\n",
            "\n"
          ]
        }
      ]
    },
    {
      "cell_type": "code",
      "source": [
        "df_pyspark['Product Type','Sale Price','Profit'].groupBy('Product Type').mean().show()"
      ],
      "metadata": {
        "colab": {
          "base_uri": "https://localhost:8080/"
        },
        "id": "4KYim9c_j9hR",
        "outputId": "d2ab2ead-eb98-4012-c8e7-582a33f05846"
      },
      "execution_count": null,
      "outputs": [
        {
          "output_type": "stream",
          "name": "stdout",
          "text": [
            "+------------+------------------+------------------+\n",
            "|Product Type|   avg(Sale Price)|       avg(Profit)|\n",
            "+------------+------------------+------------------+\n",
            "|      Laptop|1022.8990909090904|157.17181818181825|\n",
            "|      Tablet| 896.1438461538461|141.30538461538464|\n",
            "|     Desktop| 848.8135294117653|162.87529411764714|\n",
            "+------------+------------------+------------------+\n",
            "\n"
          ]
        }
      ]
    },
    {
      "cell_type": "code",
      "source": [
        "df_pyspark.groupBy('Product Type').count().show()"
      ],
      "metadata": {
        "colab": {
          "base_uri": "https://localhost:8080/"
        },
        "id": "Yt33M1KAkxcu",
        "outputId": "7a2f392d-736b-4747-9134-5d0df87cfdef"
      },
      "execution_count": null,
      "outputs": [
        {
          "output_type": "stream",
          "name": "stdout",
          "text": [
            "+------------+-----+\n",
            "|Product Type|count|\n",
            "+------------+-----+\n",
            "|      Laptop|   55|\n",
            "|      Tablet|   13|\n",
            "|     Desktop|   34|\n",
            "+------------+-----+\n",
            "\n"
          ]
        }
      ]
    },
    {
      "cell_type": "code",
      "source": [
        "df_pyspark['Product Type','Sale Price','Profit'].agg({'Sale Price':'sum','Profit':'mean'}).show()"
      ],
      "metadata": {
        "colab": {
          "base_uri": "https://localhost:8080/"
        },
        "id": "gQziLzZukhSN",
        "outputId": "5c36b0c9-6731-4a35-a1bb-ab32a626ce82"
      },
      "execution_count": null,
      "outputs": [
        {
          "output_type": "stream",
          "name": "stdout",
          "text": [
            "+-----------------+------------------+\n",
            "|  sum(Sale Price)|       avg(Profit)|\n",
            "+-----------------+------------------+\n",
            "|96768.98000000013|157.05078431372553|\n",
            "+-----------------+------------------+\n",
            "\n"
          ]
        }
      ]
    }
  ]
}