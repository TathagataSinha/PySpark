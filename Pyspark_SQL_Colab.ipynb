{
  "nbformat": 4,
  "nbformat_minor": 0,
  "metadata": {
    "colab": {
      "provenance": []
    },
    "kernelspec": {
      "name": "python3",
      "display_name": "Python 3"
    },
    "language_info": {
      "name": "python"
    }
  },
  "cells": [
    {
      "cell_type": "code",
      "execution_count": null,
      "metadata": {
        "id": "ZrljtDerKDKS"
      },
      "outputs": [],
      "source": [
        "# Install Java\n",
        "!apt-get install openjdk-11-jdk-headless -qq > /dev/null\n",
        "\n",
        "# Download Spark 3.5.0 with Hadoop 3\n",
        "!wget -q https://archive.apache.org/dist/spark/spark-3.5.0/spark-3.5.0-bin-hadoop3.tgz\n",
        "\n",
        "# Extract the Spark tar file\n",
        "!tar -xzf spark-3.5.0-bin-hadoop3.tgz\n",
        "\n",
        "# Move to /opt for standard setup\n",
        "!mv spark-3.5.0-bin-hadoop3 /opt/spark\n",
        "\n",
        "# Set environment variables\n",
        "import os\n",
        "os.environ[\"JAVA_HOME\"] = \"/usr/lib/jvm/java-11-openjdk-amd64\"\n",
        "os.environ[\"SPARK_HOME\"] = \"/opt/spark\"\n",
        "\n",
        "# Install findspark\n",
        "!pip install -q findspark"
      ]
    },
    {
      "cell_type": "code",
      "source": [
        "import findspark\n",
        "findspark.init()\n",
        "\n",
        "from pyspark.sql import SparkSession\n",
        "\n",
        "spark = SparkSession.builder \\\n",
        "    .appName(\"Test Spark Session\") \\\n",
        "    .getOrCreate()\n",
        "\n",
        "spark.range(5).show()"
      ],
      "metadata": {
        "colab": {
          "base_uri": "https://localhost:8080/"
        },
        "id": "ckoWyWE5KO71",
        "outputId": "79a101dd-aa54-4c08-97bb-fb4bb9cbac70"
      },
      "execution_count": null,
      "outputs": [
        {
          "output_type": "stream",
          "name": "stdout",
          "text": [
            "+---+\n",
            "| id|\n",
            "+---+\n",
            "|  0|\n",
            "|  1|\n",
            "|  2|\n",
            "|  3|\n",
            "|  4|\n",
            "+---+\n",
            "\n"
          ]
        }
      ]
    },
    {
      "cell_type": "code",
      "source": [
        "from pyspark.sql import SparkSession\n",
        "spark = SparkSession.builder.appName(\"Test_SQL\").getOrCreate()\n",
        "spark"
      ],
      "metadata": {
        "colab": {
          "base_uri": "https://localhost:8080/",
          "height": 222
        },
        "id": "4Z496OItE_zE",
        "outputId": "050ecf81-fb39-434d-9d8e-6e13f6c2d0db"
      },
      "execution_count": 1,
      "outputs": [
        {
          "output_type": "execute_result",
          "data": {
            "text/plain": [
              "<pyspark.sql.session.SparkSession at 0x7b5a4b0afd10>"
            ],
            "text/html": [
              "\n",
              "            <div>\n",
              "                <p><b>SparkSession - in-memory</b></p>\n",
              "                \n",
              "        <div>\n",
              "            <p><b>SparkContext</b></p>\n",
              "\n",
              "            <p><a href=\"http://6cbaa7cc082f:4040\">Spark UI</a></p>\n",
              "\n",
              "            <dl>\n",
              "              <dt>Version</dt>\n",
              "                <dd><code>v3.5.5</code></dd>\n",
              "              <dt>Master</dt>\n",
              "                <dd><code>local[*]</code></dd>\n",
              "              <dt>AppName</dt>\n",
              "                <dd><code>Test_SQL</code></dd>\n",
              "            </dl>\n",
              "        </div>\n",
              "        \n",
              "            </div>\n",
              "        "
            ]
          },
          "metadata": {},
          "execution_count": 1
        }
      ]
    },
    {
      "cell_type": "code",
      "source": [
        "df = spark.read.csv(\"gas_prices.csv\", header=True, inferSchema=True)"
      ],
      "metadata": {
        "id": "0jeOuPrXFg0Z"
      },
      "execution_count": 2,
      "outputs": []
    },
    {
      "cell_type": "code",
      "source": [
        "df.createOrReplaceTempView(\"Gas_Prices_View\")"
      ],
      "metadata": {
        "id": "WWEwxbhjF11B"
      },
      "execution_count": 3,
      "outputs": []
    },
    {
      "cell_type": "code",
      "source": [
        "result = spark.sql(\"SELECT * FROM Gas_Prices_View\")\n",
        "result.show()"
      ],
      "metadata": {
        "colab": {
          "base_uri": "https://localhost:8080/",
          "height": 0
        },
        "id": "pIJ7cG8UGFGj",
        "outputId": "0f81ced9-b1aa-4039-9dbb-7bba9218c64d"
      },
      "execution_count": 4,
      "outputs": [
        {
          "output_type": "stream",
          "name": "stdout",
          "text": [
            "+----+---------+------+------+-------+-----+-----+------+-----------+----+----+\n",
            "|Year|Australia|Canada|France|Germany|Italy|Japan|Mexico|South Korea|  UK| USA|\n",
            "+----+---------+------+------+-------+-----+-----+------+-----------+----+----+\n",
            "|1990|     NULL|  1.87|  3.63|   2.65| 4.59| 3.16|   1.0|       2.05|2.82|1.16|\n",
            "|1991|     1.96|  1.92|  3.45|    2.9|  4.5| 3.46|   1.3|       2.49|3.01|1.14|\n",
            "|1992|     1.89|  1.73|  3.56|   3.27| 4.53| 3.58|   1.5|       2.65|3.06|1.13|\n",
            "|1993|     1.73|  1.57|  3.41|   3.07| 3.68| 4.16|  1.56|       2.88|2.84|1.11|\n",
            "|1994|     1.84|  1.45|  3.59|   3.52|  3.7| 4.36|  1.48|       2.87|2.99|1.11|\n",
            "|1995|     1.95|  1.53|  4.26|   3.96|  4.0| 4.43|  1.11|       2.94|3.21|1.15|\n",
            "|1996|     2.12|  1.61|  4.41|   3.94| 4.39| 3.64|  1.25|       3.18|3.34|1.23|\n",
            "|1997|     2.05|  1.62|   4.0|   3.53| 4.07| 3.26|  1.47|       3.34|3.83|1.23|\n",
            "|1998|     1.63|  1.38|  3.87|   3.34| 3.84| 2.82|  1.49|       3.04|4.06|1.06|\n",
            "|1999|     1.72|  1.52|  3.85|   3.42| 3.87| 3.27|  1.79|        3.8|4.29|1.17|\n",
            "|2000|     1.94|  1.86|   3.8|   3.45| 3.77| 3.65|  2.01|       4.18|4.58|1.51|\n",
            "|2001|     1.71|  1.72|  3.51|    3.4| 3.57| 3.27|   2.2|       3.76|4.13|1.46|\n",
            "|2002|     1.76|  1.69|  3.62|   3.67| 3.74| 3.15|  2.24|       3.84|4.16|1.36|\n",
            "|2003|     2.19|  1.99|  4.35|   4.59| 4.53| 3.47|  2.04|       4.11| 4.7|1.59|\n",
            "|2004|     2.72|  2.37|  4.99|   5.24| 5.29| 3.93|  2.03|       4.51|5.56|1.88|\n",
            "|2005|     3.23|  2.89|  5.46|   5.66| 5.74| 4.28|  2.22|       5.28|5.97| 2.3|\n",
            "|2006|     3.54|  3.26|  5.88|   6.03|  6.1| 4.47|  2.31|       5.92|6.36|2.59|\n",
            "|2007|     3.85|  3.59|   6.6|   6.88| 6.73| 4.49|   2.4|       6.21|7.13| 2.8|\n",
            "|2008|     4.45|  4.08|  7.51|   7.75| 7.63| 5.74|  2.45|       5.83|7.42|3.27|\n",
            "+----+---------+------+------+-------+-----+-----+------+-----------+----+----+\n",
            "\n"
          ]
        }
      ]
    },
    {
      "cell_type": "code",
      "source": [
        "spark.sql(\"SELECT Year, Canada, UK, USA FROM Gas_Prices_View WHERE Year >= 2000\").show()"
      ],
      "metadata": {
        "colab": {
          "base_uri": "https://localhost:8080/",
          "height": 0
        },
        "id": "rVLL0bwJGOBE",
        "outputId": "378f001a-174e-43ef-9d6f-81e99dc968ad"
      },
      "execution_count": 8,
      "outputs": [
        {
          "output_type": "stream",
          "name": "stdout",
          "text": [
            "+----+------+----+----+\n",
            "|Year|Canada|  UK| USA|\n",
            "+----+------+----+----+\n",
            "|2000|  1.86|4.58|1.51|\n",
            "|2001|  1.72|4.13|1.46|\n",
            "|2002|  1.69|4.16|1.36|\n",
            "|2003|  1.99| 4.7|1.59|\n",
            "|2004|  2.37|5.56|1.88|\n",
            "|2005|  2.89|5.97| 2.3|\n",
            "|2006|  3.26|6.36|2.59|\n",
            "|2007|  3.59|7.13| 2.8|\n",
            "|2008|  4.08|7.42|3.27|\n",
            "+----+------+----+----+\n",
            "\n"
          ]
        }
      ]
    },
    {
      "cell_type": "code",
      "source": [
        "spark.sql(\"SELECT Year, (Canada, UK, USA FROM Gas_Prices_View WHERE Year >= 2000\").show()"
      ],
      "metadata": {
        "id": "nms0KD3PHCsR"
      },
      "execution_count": null,
      "outputs": []
    },
    {
      "cell_type": "code",
      "source": [
        "#df.select(col(\"Year\"), col(\"UK\") + 1).show()"
      ],
      "metadata": {
        "id": "-6gYjvvXG9UD"
      },
      "execution_count": 12,
      "outputs": []
    },
    {
      "cell_type": "code",
      "source": [
        "df.write.mode(\"overwrite\").csv(\"output/gas_price_csv\", header=True)"
      ],
      "metadata": {
        "id": "S38zDlGLOlib"
      },
      "execution_count": 13,
      "outputs": []
    },
    {
      "cell_type": "code",
      "source": [
        "from pyspark.sql.functions import udf\n",
        "from pyspark.sql.types import StringType\n",
        "from pyspark.sql.functions import col\n",
        "\n",
        "df_clean=df.na.drop(how=\"any\",subset=['Australia'])\n",
        "def year_group(Year):\n",
        "    return \"Modern\" if Year >= 2000 else \"Vintage\"\n",
        "\n",
        "def price_group(price):\n",
        "    if price is None:\n",
        "        return \"Unknown\"\n",
        "    try:\n",
        "        if int(price < 3):\n",
        "            return \"Cheap\"\n",
        "        else:\n",
        "            return \"Expensive\"\n",
        "    except Exception:\n",
        "        return \"Invalid\"\n",
        "\n",
        "year_udf = udf(year_group, StringType())\n",
        "price_udf = udf(price_group, StringType())\n",
        "\n",
        "df_clean.withColumn(\"year_group\", year_udf(col(\"Year\"))).show()\n",
        "df_clean.withColumn(\"price_group\", price_udf(col(\"UK\"))).show()\n"
      ],
      "metadata": {
        "colab": {
          "base_uri": "https://localhost:8080/",
          "height": 0
        },
        "id": "BkLSTdpiO_Te",
        "outputId": "5eaaea4f-91a1-4322-fa47-041bd70e1f9d"
      },
      "execution_count": 29,
      "outputs": [
        {
          "output_type": "stream",
          "name": "stdout",
          "text": [
            "+----+---------+------+------+-------+-----+-----+------+-----------+----+----+----------+\n",
            "|Year|Australia|Canada|France|Germany|Italy|Japan|Mexico|South Korea|  UK| USA|year_group|\n",
            "+----+---------+------+------+-------+-----+-----+------+-----------+----+----+----------+\n",
            "|1991|     1.96|  1.92|  3.45|    2.9|  4.5| 3.46|   1.3|       2.49|3.01|1.14|   Vintage|\n",
            "|1992|     1.89|  1.73|  3.56|   3.27| 4.53| 3.58|   1.5|       2.65|3.06|1.13|   Vintage|\n",
            "|1993|     1.73|  1.57|  3.41|   3.07| 3.68| 4.16|  1.56|       2.88|2.84|1.11|   Vintage|\n",
            "|1994|     1.84|  1.45|  3.59|   3.52|  3.7| 4.36|  1.48|       2.87|2.99|1.11|   Vintage|\n",
            "|1995|     1.95|  1.53|  4.26|   3.96|  4.0| 4.43|  1.11|       2.94|3.21|1.15|   Vintage|\n",
            "|1996|     2.12|  1.61|  4.41|   3.94| 4.39| 3.64|  1.25|       3.18|3.34|1.23|   Vintage|\n",
            "|1997|     2.05|  1.62|   4.0|   3.53| 4.07| 3.26|  1.47|       3.34|3.83|1.23|   Vintage|\n",
            "|1998|     1.63|  1.38|  3.87|   3.34| 3.84| 2.82|  1.49|       3.04|4.06|1.06|   Vintage|\n",
            "|1999|     1.72|  1.52|  3.85|   3.42| 3.87| 3.27|  1.79|        3.8|4.29|1.17|   Vintage|\n",
            "|2000|     1.94|  1.86|   3.8|   3.45| 3.77| 3.65|  2.01|       4.18|4.58|1.51|    Modern|\n",
            "|2001|     1.71|  1.72|  3.51|    3.4| 3.57| 3.27|   2.2|       3.76|4.13|1.46|    Modern|\n",
            "|2002|     1.76|  1.69|  3.62|   3.67| 3.74| 3.15|  2.24|       3.84|4.16|1.36|    Modern|\n",
            "|2003|     2.19|  1.99|  4.35|   4.59| 4.53| 3.47|  2.04|       4.11| 4.7|1.59|    Modern|\n",
            "|2004|     2.72|  2.37|  4.99|   5.24| 5.29| 3.93|  2.03|       4.51|5.56|1.88|    Modern|\n",
            "|2005|     3.23|  2.89|  5.46|   5.66| 5.74| 4.28|  2.22|       5.28|5.97| 2.3|    Modern|\n",
            "|2006|     3.54|  3.26|  5.88|   6.03|  6.1| 4.47|  2.31|       5.92|6.36|2.59|    Modern|\n",
            "|2007|     3.85|  3.59|   6.6|   6.88| 6.73| 4.49|   2.4|       6.21|7.13| 2.8|    Modern|\n",
            "|2008|     4.45|  4.08|  7.51|   7.75| 7.63| 5.74|  2.45|       5.83|7.42|3.27|    Modern|\n",
            "+----+---------+------+------+-------+-----+-----+------+-----------+----+----+----------+\n",
            "\n",
            "+----+---------+------+------+-------+-----+-----+------+-----------+----+----+-----------+\n",
            "|Year|Australia|Canada|France|Germany|Italy|Japan|Mexico|South Korea|  UK| USA|price_group|\n",
            "+----+---------+------+------+-------+-----+-----+------+-----------+----+----+-----------+\n",
            "|1991|     1.96|  1.92|  3.45|    2.9|  4.5| 3.46|   1.3|       2.49|3.01|1.14|  Expensive|\n",
            "|1992|     1.89|  1.73|  3.56|   3.27| 4.53| 3.58|   1.5|       2.65|3.06|1.13|  Expensive|\n",
            "|1993|     1.73|  1.57|  3.41|   3.07| 3.68| 4.16|  1.56|       2.88|2.84|1.11|      Cheap|\n",
            "|1994|     1.84|  1.45|  3.59|   3.52|  3.7| 4.36|  1.48|       2.87|2.99|1.11|      Cheap|\n",
            "|1995|     1.95|  1.53|  4.26|   3.96|  4.0| 4.43|  1.11|       2.94|3.21|1.15|  Expensive|\n",
            "|1996|     2.12|  1.61|  4.41|   3.94| 4.39| 3.64|  1.25|       3.18|3.34|1.23|  Expensive|\n",
            "|1997|     2.05|  1.62|   4.0|   3.53| 4.07| 3.26|  1.47|       3.34|3.83|1.23|  Expensive|\n",
            "|1998|     1.63|  1.38|  3.87|   3.34| 3.84| 2.82|  1.49|       3.04|4.06|1.06|  Expensive|\n",
            "|1999|     1.72|  1.52|  3.85|   3.42| 3.87| 3.27|  1.79|        3.8|4.29|1.17|  Expensive|\n",
            "|2000|     1.94|  1.86|   3.8|   3.45| 3.77| 3.65|  2.01|       4.18|4.58|1.51|  Expensive|\n",
            "|2001|     1.71|  1.72|  3.51|    3.4| 3.57| 3.27|   2.2|       3.76|4.13|1.46|  Expensive|\n",
            "|2002|     1.76|  1.69|  3.62|   3.67| 3.74| 3.15|  2.24|       3.84|4.16|1.36|  Expensive|\n",
            "|2003|     2.19|  1.99|  4.35|   4.59| 4.53| 3.47|  2.04|       4.11| 4.7|1.59|  Expensive|\n",
            "|2004|     2.72|  2.37|  4.99|   5.24| 5.29| 3.93|  2.03|       4.51|5.56|1.88|  Expensive|\n",
            "|2005|     3.23|  2.89|  5.46|   5.66| 5.74| 4.28|  2.22|       5.28|5.97| 2.3|  Expensive|\n",
            "|2006|     3.54|  3.26|  5.88|   6.03|  6.1| 4.47|  2.31|       5.92|6.36|2.59|  Expensive|\n",
            "|2007|     3.85|  3.59|   6.6|   6.88| 6.73| 4.49|   2.4|       6.21|7.13| 2.8|  Expensive|\n",
            "|2008|     4.45|  4.08|  7.51|   7.75| 7.63| 5.74|  2.45|       5.83|7.42|3.27|  Expensive|\n",
            "+----+---------+------+------+-------+-----+-----+------+-----------+----+----+-----------+\n",
            "\n"
          ]
        }
      ]
    },
    {
      "cell_type": "code",
      "source": [],
      "metadata": {
        "id": "veCeKqrbRN6X"
      },
      "execution_count": null,
      "outputs": []
    }
  ]
}